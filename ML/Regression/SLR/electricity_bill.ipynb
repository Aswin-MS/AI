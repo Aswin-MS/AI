{
 "cells": [
  {
   "cell_type": "code",
   "execution_count": 30,
   "id": "b902522e",
   "metadata": {},
   "outputs": [],
   "source": [
    "import numpy as np\n",
    "import pandas as pd\n",
    "import matplotlib.pyplot as plt"
   ]
  },
  {
   "cell_type": "code",
   "execution_count": 31,
   "id": "c889161a",
   "metadata": {},
   "outputs": [
    {
     "data": {
      "text/html": [
       "<div>\n",
       "<style scoped>\n",
       "    .dataframe tbody tr th:only-of-type {\n",
       "        vertical-align: middle;\n",
       "    }\n",
       "\n",
       "    .dataframe tbody tr th {\n",
       "        vertical-align: top;\n",
       "    }\n",
       "\n",
       "    .dataframe thead th {\n",
       "        text-align: right;\n",
       "    }\n",
       "</style>\n",
       "<table border=\"1\" class=\"dataframe\">\n",
       "  <thead>\n",
       "    <tr style=\"text-align: right;\">\n",
       "      <th></th>\n",
       "      <th>Units_Consumed</th>\n",
       "      <th>Electricity_Bill</th>\n",
       "    </tr>\n",
       "  </thead>\n",
       "  <tbody>\n",
       "    <tr>\n",
       "      <th>0</th>\n",
       "      <td>152</td>\n",
       "      <td>1010.93</td>\n",
       "    </tr>\n",
       "    <tr>\n",
       "      <th>1</th>\n",
       "      <td>485</td>\n",
       "      <td>3861.19</td>\n",
       "    </tr>\n",
       "    <tr>\n",
       "      <th>2</th>\n",
       "      <td>398</td>\n",
       "      <td>3210.64</td>\n",
       "    </tr>\n",
       "    <tr>\n",
       "      <th>3</th>\n",
       "      <td>320</td>\n",
       "      <td>2678.67</td>\n",
       "    </tr>\n",
       "    <tr>\n",
       "      <th>4</th>\n",
       "      <td>156</td>\n",
       "      <td>1239.04</td>\n",
       "    </tr>\n",
       "  </tbody>\n",
       "</table>\n",
       "</div>"
      ],
      "text/plain": [
       "   Units_Consumed  Electricity_Bill\n",
       "0             152           1010.93\n",
       "1             485           3861.19\n",
       "2             398           3210.64\n",
       "3             320           2678.67\n",
       "4             156           1239.04"
      ]
     },
     "execution_count": 31,
     "metadata": {},
     "output_type": "execute_result"
    }
   ],
   "source": [
    "df=pd.read_csv('electricity_bill.csv')\n",
    "df.head()"
   ]
  },
  {
   "cell_type": "code",
   "execution_count": 32,
   "id": "6d604683",
   "metadata": {},
   "outputs": [
    {
     "data": {
      "text/html": [
       "<div>\n",
       "<style scoped>\n",
       "    .dataframe tbody tr th:only-of-type {\n",
       "        vertical-align: middle;\n",
       "    }\n",
       "\n",
       "    .dataframe tbody tr th {\n",
       "        vertical-align: top;\n",
       "    }\n",
       "\n",
       "    .dataframe thead th {\n",
       "        text-align: right;\n",
       "    }\n",
       "</style>\n",
       "<table border=\"1\" class=\"dataframe\">\n",
       "  <thead>\n",
       "    <tr style=\"text-align: right;\">\n",
       "      <th></th>\n",
       "      <th>Units_Consumed</th>\n",
       "      <th>Electricity_Bill</th>\n",
       "    </tr>\n",
       "  </thead>\n",
       "  <tbody>\n",
       "    <tr>\n",
       "      <th>495</th>\n",
       "      <td>199</td>\n",
       "      <td>1640.91</td>\n",
       "    </tr>\n",
       "    <tr>\n",
       "      <th>496</th>\n",
       "      <td>363</td>\n",
       "      <td>2577.80</td>\n",
       "    </tr>\n",
       "    <tr>\n",
       "      <th>497</th>\n",
       "      <td>107</td>\n",
       "      <td>1047.46</td>\n",
       "    </tr>\n",
       "    <tr>\n",
       "      <th>498</th>\n",
       "      <td>391</td>\n",
       "      <td>2989.52</td>\n",
       "    </tr>\n",
       "    <tr>\n",
       "      <th>499</th>\n",
       "      <td>354</td>\n",
       "      <td>2232.16</td>\n",
       "    </tr>\n",
       "  </tbody>\n",
       "</table>\n",
       "</div>"
      ],
      "text/plain": [
       "     Units_Consumed  Electricity_Bill\n",
       "495             199           1640.91\n",
       "496             363           2577.80\n",
       "497             107           1047.46\n",
       "498             391           2989.52\n",
       "499             354           2232.16"
      ]
     },
     "execution_count": 32,
     "metadata": {},
     "output_type": "execute_result"
    }
   ],
   "source": [
    "df.tail()"
   ]
  },
  {
   "cell_type": "code",
   "execution_count": 33,
   "id": "bf9a5473",
   "metadata": {},
   "outputs": [
    {
     "data": {
      "text/plain": [
       "(500, 2)"
      ]
     },
     "execution_count": 33,
     "metadata": {},
     "output_type": "execute_result"
    }
   ],
   "source": [
    "df.shape"
   ]
  },
  {
   "cell_type": "code",
   "execution_count": 34,
   "id": "dff1de3e",
   "metadata": {},
   "outputs": [
    {
     "data": {
      "text/plain": [
       "2"
      ]
     },
     "execution_count": 34,
     "metadata": {},
     "output_type": "execute_result"
    }
   ],
   "source": [
    "df.ndim"
   ]
  },
  {
   "cell_type": "code",
   "execution_count": 35,
   "id": "02eba72c",
   "metadata": {},
   "outputs": [
    {
     "data": {
      "text/plain": [
       "Units_Consumed        int64\n",
       "Electricity_Bill    float64\n",
       "dtype: object"
      ]
     },
     "execution_count": 35,
     "metadata": {},
     "output_type": "execute_result"
    }
   ],
   "source": [
    "df.dtypes"
   ]
  },
  {
   "cell_type": "code",
   "execution_count": 36,
   "id": "80b5a070",
   "metadata": {},
   "outputs": [
    {
     "data": {
      "text/plain": [
       "Units_Consumed      0\n",
       "Electricity_Bill    0\n",
       "dtype: int64"
      ]
     },
     "execution_count": 36,
     "metadata": {},
     "output_type": "execute_result"
    }
   ],
   "source": [
    "df.isna().sum()"
   ]
  },
  {
   "cell_type": "code",
   "execution_count": 37,
   "id": "e25b427a",
   "metadata": {},
   "outputs": [],
   "source": [
    "x=df.iloc[:,:-1]\n",
    "y=df.iloc[:,-1]"
   ]
  },
  {
   "cell_type": "code",
   "execution_count": 38,
   "id": "f1ac4ce9",
   "metadata": {},
   "outputs": [
    {
     "data": {
      "text/html": [
       "<div>\n",
       "<style scoped>\n",
       "    .dataframe tbody tr th:only-of-type {\n",
       "        vertical-align: middle;\n",
       "    }\n",
       "\n",
       "    .dataframe tbody tr th {\n",
       "        vertical-align: top;\n",
       "    }\n",
       "\n",
       "    .dataframe thead th {\n",
       "        text-align: right;\n",
       "    }\n",
       "</style>\n",
       "<table border=\"1\" class=\"dataframe\">\n",
       "  <thead>\n",
       "    <tr style=\"text-align: right;\">\n",
       "      <th></th>\n",
       "      <th>Units_Consumed</th>\n",
       "    </tr>\n",
       "  </thead>\n",
       "  <tbody>\n",
       "    <tr>\n",
       "      <th>0</th>\n",
       "      <td>152</td>\n",
       "    </tr>\n",
       "    <tr>\n",
       "      <th>1</th>\n",
       "      <td>485</td>\n",
       "    </tr>\n",
       "    <tr>\n",
       "      <th>2</th>\n",
       "      <td>398</td>\n",
       "    </tr>\n",
       "    <tr>\n",
       "      <th>3</th>\n",
       "      <td>320</td>\n",
       "    </tr>\n",
       "    <tr>\n",
       "      <th>4</th>\n",
       "      <td>156</td>\n",
       "    </tr>\n",
       "    <tr>\n",
       "      <th>...</th>\n",
       "      <td>...</td>\n",
       "    </tr>\n",
       "    <tr>\n",
       "      <th>495</th>\n",
       "      <td>199</td>\n",
       "    </tr>\n",
       "    <tr>\n",
       "      <th>496</th>\n",
       "      <td>363</td>\n",
       "    </tr>\n",
       "    <tr>\n",
       "      <th>497</th>\n",
       "      <td>107</td>\n",
       "    </tr>\n",
       "    <tr>\n",
       "      <th>498</th>\n",
       "      <td>391</td>\n",
       "    </tr>\n",
       "    <tr>\n",
       "      <th>499</th>\n",
       "      <td>354</td>\n",
       "    </tr>\n",
       "  </tbody>\n",
       "</table>\n",
       "<p>500 rows × 1 columns</p>\n",
       "</div>"
      ],
      "text/plain": [
       "     Units_Consumed\n",
       "0               152\n",
       "1               485\n",
       "2               398\n",
       "3               320\n",
       "4               156\n",
       "..              ...\n",
       "495             199\n",
       "496             363\n",
       "497             107\n",
       "498             391\n",
       "499             354\n",
       "\n",
       "[500 rows x 1 columns]"
      ]
     },
     "execution_count": 38,
     "metadata": {},
     "output_type": "execute_result"
    }
   ],
   "source": [
    "x"
   ]
  },
  {
   "cell_type": "code",
   "execution_count": 39,
   "id": "977c83bf",
   "metadata": {},
   "outputs": [
    {
     "data": {
      "text/plain": [
       "0      1010.93\n",
       "1      3861.19\n",
       "2      3210.64\n",
       "3      2678.67\n",
       "4      1239.04\n",
       "        ...   \n",
       "495    1640.91\n",
       "496    2577.80\n",
       "497    1047.46\n",
       "498    2989.52\n",
       "499    2232.16\n",
       "Name: Electricity_Bill, Length: 500, dtype: float64"
      ]
     },
     "execution_count": 39,
     "metadata": {},
     "output_type": "execute_result"
    }
   ],
   "source": [
    "y"
   ]
  },
  {
   "cell_type": "code",
   "execution_count": 40,
   "id": "6b0f5136",
   "metadata": {},
   "outputs": [
    {
     "data": {
      "text/plain": [
       "Text(0, 0.5, 'Bill')"
      ]
     },
     "execution_count": 40,
     "metadata": {},
     "output_type": "execute_result"
    },
    {
     "data": {
      "image/png": "[encoded data removed]",
      "text/plain": [
       "<Figure size 640x480 with 1 Axes>"
      ]
     },
     "metadata": {},
     "output_type": "display_data"
    }
   ],
   "source": [
    "plt.scatter(x,y)\n",
    "plt.title('Elctricity Bill')\n",
    "plt.xlabel('Units')\n",
    "plt.ylabel('Bill')"
   ]
  },
  {
   "cell_type": "code",
   "execution_count": 41,
   "id": "97aeee17",
   "metadata": {},
   "outputs": [],
   "source": [
    "from sklearn.model_selection import train_test_split\n",
    "x_train,x_test,y_train,y_test=train_test_split(x,y,test_size=0.30,random_state=1)"
   ]
  },
  {
   "cell_type": "code",
   "execution_count": 42,
   "id": "f885a3a6",
   "metadata": {},
   "outputs": [
    {
     "data": {
      "text/plain": [
       "array([3743.95263922,  856.56808192, 2932.36346636, 3900.02748016,\n",
       "       1543.29738203, 2682.64372086, 2518.76513788, 2409.51274922,\n",
       "       1316.98886267, 3915.63496425,  903.3905342 , 1832.03583776,\n",
       "       3119.65327548, 3299.13934255, 1434.04499338, 1106.28782741,\n",
       "       2955.7746925 , 3158.67198571,  918.99801829, 1777.40964343,\n",
       "       3892.22373811, 3821.99005969, 3876.61625401,  926.80176034,\n",
       "       1153.11027969, 3431.80295735,  817.54937168, 1691.56848092,\n",
       "        840.96059782, 3088.43830729, 2284.65287647,  739.51195121,\n",
       "       2253.43790829, 3244.51314823, 1020.4466649 , 2690.44746291,\n",
       "       2971.38217659, 1270.16641039, 3299.13934255, 1949.09196846,\n",
       "       2807.50359361, 2409.51274922, 3626.89650852, 3915.63496425,\n",
       "       1683.76473887,  723.90446712, 3580.07405624,  481.98846367,\n",
       "        466.38097958, 3072.8308232 ,  552.22214209, 1379.41879905,\n",
       "        997.03543876, 2253.43790829, 1613.53106045,  848.76433987,\n",
       "       1582.31609226, 3182.08321185, 1457.45621952, 3088.43830729,\n",
       "       3712.73767103, 3572.27031419, 3439.6066994 , 3907.8312222 ,\n",
       "        606.84833642, 2760.68114133, 2230.02668215, 1621.3348025 ,\n",
       "       1192.12898993, 3502.03663577, 3314.74682665,  450.77349548,\n",
       "       3244.51314823, 2885.54101408, 2128.57803554, 2362.69029694,\n",
       "       1605.7273184 , 1176.52150583,  450.77349548, 2003.71816279,\n",
       "       1449.65247747, 2986.98966068, 1894.46577414, 3345.96179483,\n",
       "       3135.26075957, 1722.78344911, 2620.21378448, 2003.71816279,\n",
       "       1886.66203209, 2940.1672084 , 2495.35391174, 3330.35431074,\n",
       "       1207.73647402, 1910.07325823, 3158.67198571, 3018.20462887,\n",
       "       1761.80215934, 3174.27946981, 1504.2786718 , 3400.58798916,\n",
       "        840.96059782, 2175.40048782,  591.24085232,  544.41840004,\n",
       "        692.68949893,  450.77349548, 1434.04499338, 1067.26911718,\n",
       "       2237.83042419, 2284.65287647, 1340.40008881, 3853.20502787,\n",
       "       2791.89610951, 3104.04579138, 2191.00797191, 1551.10112408,\n",
       "        575.63336823, 1605.7273184 , 3915.63496425, 2620.21378448,\n",
       "        536.614658  , 1800.82086957, 3541.055346  , 1402.83002519,\n",
       "        755.11943531, 2456.3352015 , 2885.54101408, 1371.615057  ,\n",
       "        856.56808192, 2339.2790708 , 3689.32644489, 2807.50359361,\n",
       "       2682.64372086, 1262.36266835, 2807.50359361, 3439.6066994 ,\n",
       "       1426.24125133, 2565.58759016, 3494.23289372, 2830.91481975,\n",
       "        692.68949893, 3634.70025056, 1184.32524788, 1590.11983431,\n",
       "       3018.20462887,  505.39968981, 2651.42875267, 2112.97055144,\n",
       "        926.80176034, 2729.46617314])"
      ]
     },
     "execution_count": 42,
     "metadata": {},
     "output_type": "execute_result"
    }
   ],
   "source": [
    "from sklearn.linear_model import LinearRegression\n",
    "model=LinearRegression()\n",
    "model.fit(x_train,y_train)\n",
    "y_pred=model.predict(x_test)\n",
    "y_pred"
   ]
  },
  {
   "cell_type": "code",
   "execution_count": 43,
   "id": "0113efcf",
   "metadata": {},
   "outputs": [
    {
     "name": "stdout",
     "output_type": "stream",
     "text": [
      "[1238.95144221]\n"
     ]
    },
    {
     "name": "stderr",
     "output_type": "stream",
     "text": [
      "c:\\Users\\user\\AppData\\Local\\Programs\\Python\\Python310\\lib\\site-packages\\sklearn\\utils\\validation.py:2749: UserWarning: X does not have valid feature names, but LinearRegression was fitted with feature names\n",
      "  warnings.warn(\n"
     ]
    }
   ],
   "source": [
    "print(model.predict([[152]]))"
   ]
  },
  {
   "cell_type": "code",
   "execution_count": 44,
   "id": "879c12b0",
   "metadata": {},
   "outputs": [
    {
     "data": {
      "text/plain": [
       "[<matplotlib.lines.Line2D at 0x22ca40c75e0>]"
      ]
     },
     "execution_count": 44,
     "metadata": {},
     "output_type": "execute_result"
    },
    {
     "data": {
      "image/png": "[encoded data removed]",
      "text/plain": [
       "<Figure size 640x480 with 1 Axes>"
      ]
     },
     "metadata": {},
     "output_type": "display_data"
    }
   ],
   "source": [
    "plt.scatter(x_train,y_train)\n",
    "plt.plot(x_test,y_pred)"
   ]
  },
  {
   "cell_type": "code",
   "execution_count": 45,
   "id": "f09d37cb",
   "metadata": {},
   "outputs": [
    {
     "name": "stdout",
     "output_type": "stream",
     "text": [
      "[7.80374205]\n"
     ]
    }
   ],
   "source": [
    "#slope\n",
    "print(model.coef_)"
   ]
  },
  {
   "cell_type": "code",
   "execution_count": 46,
   "id": "30983951",
   "metadata": {},
   "outputs": [
    {
     "name": "stdout",
     "output_type": "stream",
     "text": [
      "52.78265109777067\n"
     ]
    }
   ],
   "source": [
    "#y intercept or constant\n",
    "print(model.intercept_)"
   ]
  },
  {
   "cell_type": "code",
   "execution_count": 47,
   "id": "ae03dcb5",
   "metadata": {},
   "outputs": [
    {
     "data": {
      "text/html": [
       "<div>\n",
       "<style scoped>\n",
       "    .dataframe tbody tr th:only-of-type {\n",
       "        vertical-align: middle;\n",
       "    }\n",
       "\n",
       "    .dataframe tbody tr th {\n",
       "        vertical-align: top;\n",
       "    }\n",
       "\n",
       "    .dataframe thead th {\n",
       "        text-align: right;\n",
       "    }\n",
       "</style>\n",
       "<table border=\"1\" class=\"dataframe\">\n",
       "  <thead>\n",
       "    <tr style=\"text-align: right;\">\n",
       "      <th></th>\n",
       "      <th>Actual_value</th>\n",
       "      <th>Predicted_value</th>\n",
       "      <th>Difference</th>\n",
       "    </tr>\n",
       "  </thead>\n",
       "  <tbody>\n",
       "    <tr>\n",
       "      <th>304</th>\n",
       "      <td>4466.78</td>\n",
       "      <td>3743.952639</td>\n",
       "      <td>722.827361</td>\n",
       "    </tr>\n",
       "    <tr>\n",
       "      <th>340</th>\n",
       "      <td>794.84</td>\n",
       "      <td>856.568082</td>\n",
       "      <td>-61.728082</td>\n",
       "    </tr>\n",
       "    <tr>\n",
       "      <th>47</th>\n",
       "      <td>2988.87</td>\n",
       "      <td>2932.363466</td>\n",
       "      <td>56.506534</td>\n",
       "    </tr>\n",
       "    <tr>\n",
       "      <th>67</th>\n",
       "      <td>4204.59</td>\n",
       "      <td>3900.027480</td>\n",
       "      <td>304.562520</td>\n",
       "    </tr>\n",
       "    <tr>\n",
       "      <th>479</th>\n",
       "      <td>1840.52</td>\n",
       "      <td>1543.297382</td>\n",
       "      <td>297.222618</td>\n",
       "    </tr>\n",
       "    <tr>\n",
       "      <th>...</th>\n",
       "      <td>...</td>\n",
       "      <td>...</td>\n",
       "      <td>...</td>\n",
       "    </tr>\n",
       "    <tr>\n",
       "      <th>331</th>\n",
       "      <td>689.30</td>\n",
       "      <td>505.399690</td>\n",
       "      <td>183.900310</td>\n",
       "    </tr>\n",
       "    <tr>\n",
       "      <th>197</th>\n",
       "      <td>3036.33</td>\n",
       "      <td>2651.428753</td>\n",
       "      <td>384.901247</td>\n",
       "    </tr>\n",
       "    <tr>\n",
       "      <th>95</th>\n",
       "      <td>2255.17</td>\n",
       "      <td>2112.970551</td>\n",
       "      <td>142.199449</td>\n",
       "    </tr>\n",
       "    <tr>\n",
       "      <th>122</th>\n",
       "      <td>656.39</td>\n",
       "      <td>926.801760</td>\n",
       "      <td>-270.411760</td>\n",
       "    </tr>\n",
       "    <tr>\n",
       "      <th>23</th>\n",
       "      <td>2939.85</td>\n",
       "      <td>2729.466173</td>\n",
       "      <td>210.383827</td>\n",
       "    </tr>\n",
       "  </tbody>\n",
       "</table>\n",
       "<p>150 rows × 3 columns</p>\n",
       "</div>"
      ],
      "text/plain": [
       "     Actual_value  Predicted_value  Difference\n",
       "304       4466.78      3743.952639  722.827361\n",
       "340        794.84       856.568082  -61.728082\n",
       "47        2988.87      2932.363466   56.506534\n",
       "67        4204.59      3900.027480  304.562520\n",
       "479       1840.52      1543.297382  297.222618\n",
       "..            ...              ...         ...\n",
       "331        689.30       505.399690  183.900310\n",
       "197       3036.33      2651.428753  384.901247\n",
       "95        2255.17      2112.970551  142.199449\n",
       "122        656.39       926.801760 -270.411760\n",
       "23        2939.85      2729.466173  210.383827\n",
       "\n",
       "[150 rows x 3 columns]"
      ]
     },
     "execution_count": 47,
     "metadata": {},
     "output_type": "execute_result"
    }
   ],
   "source": [
    "#Dataframe\n",
    "#Actual value,Predicted value,Difference\n",
    "df1=pd.DataFrame({'Actual_value':y_test,'Predicted_value':y_pred,'Difference':y_test-y_pred})\n",
    "df1"
   ]
  },
  {
   "cell_type": "code",
   "execution_count": 48,
   "id": "926b05fc",
   "metadata": {},
   "outputs": [
    {
     "data": {
      "text/plain": [
       "214.67056989724307"
      ]
     },
     "execution_count": 48,
     "metadata": {},
     "output_type": "execute_result"
    }
   ],
   "source": [
    "from sklearn.metrics import mean_absolute_error,mean_absolute_percentage_error,mean_squared_error,root_mean_squared_error,r2_score\n",
    "#MAE\n",
    "m1=mean_absolute_error(y_test,y_pred)\n",
    "m1"
   ]
  },
  {
   "cell_type": "code",
   "execution_count": 49,
   "id": "4768e424",
   "metadata": {},
   "outputs": [
    {
     "name": "stdout",
     "output_type": "stream",
     "text": [
      "MAPE:  0.18367918093473629\n",
      "MSE:  73427.44200508166\n",
      "RMSE: 270.97498409462384\n",
      "r2:  0.9421432414816016\n"
     ]
    }
   ],
   "source": [
    "print('MAPE: ',mean_absolute_percentage_error(y_test,y_pred))\n",
    "print(\"MSE: \",mean_squared_error(y_test,y_pred))\n",
    "print(\"RMSE:\",root_mean_squared_error(y_test,y_pred))\n",
    "print(\"r2: \",r2_score(y_test,y_pred))"
   ]
  }
 ],
 "metadata": {
  "kernelspec": {
   "display_name": "Python 3",
   "language": "python",
   "name": "python3"
  },
  "language_info": {
   "codemirror_mode": {
    "name": "ipython",
    "version": 3
   },
   "file_extension": ".py",
   "mimetype": "text/x-python",
   "name": "python",
   "nbconvert_exporter": "python",
   "pygments_lexer": "ipython3",
   "version": "3.10.10"
  }
 },
 "nbformat": 4,
 "nbformat_minor": 5
}

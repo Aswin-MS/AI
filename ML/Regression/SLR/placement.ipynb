{
 "cells": [
  {
   "cell_type": "code",
   "execution_count": 1,
   "id": "70d260f8",
   "metadata": {},
   "outputs": [],
   "source": [
    "import numpy as np\n",
    "import pandas as pd\n",
    "import matplotlib.pyplot as plt"
   ]
  },
  {
   "cell_type": "code",
   "execution_count": 2,
   "id": "ebe993fc",
   "metadata": {},
   "outputs": [
    {
     "data": {
      "text/html": [
       "<div>\n",
       "<style scoped>\n",
       "    .dataframe tbody tr th:only-of-type {\n",
       "        vertical-align: middle;\n",
       "    }\n",
       "\n",
       "    .dataframe tbody tr th {\n",
       "        vertical-align: top;\n",
       "    }\n",
       "\n",
       "    .dataframe thead th {\n",
       "        text-align: right;\n",
       "    }\n",
       "</style>\n",
       "<table border=\"1\" class=\"dataframe\">\n",
       "  <thead>\n",
       "    <tr style=\"text-align: right;\">\n",
       "      <th></th>\n",
       "      <th>cgpa</th>\n",
       "      <th>package</th>\n",
       "    </tr>\n",
       "  </thead>\n",
       "  <tbody>\n",
       "    <tr>\n",
       "      <th>0</th>\n",
       "      <td>6.89</td>\n",
       "      <td>3.26</td>\n",
       "    </tr>\n",
       "    <tr>\n",
       "      <th>1</th>\n",
       "      <td>5.12</td>\n",
       "      <td>1.98</td>\n",
       "    </tr>\n",
       "    <tr>\n",
       "      <th>2</th>\n",
       "      <td>7.82</td>\n",
       "      <td>3.25</td>\n",
       "    </tr>\n",
       "    <tr>\n",
       "      <th>3</th>\n",
       "      <td>7.42</td>\n",
       "      <td>3.67</td>\n",
       "    </tr>\n",
       "    <tr>\n",
       "      <th>4</th>\n",
       "      <td>6.94</td>\n",
       "      <td>3.57</td>\n",
       "    </tr>\n",
       "  </tbody>\n",
       "</table>\n",
       "</div>"
      ],
      "text/plain": [
       "   cgpa  package\n",
       "0  6.89     3.26\n",
       "1  5.12     1.98\n",
       "2  7.82     3.25\n",
       "3  7.42     3.67\n",
       "4  6.94     3.57"
      ]
     },
     "execution_count": 2,
     "metadata": {},
     "output_type": "execute_result"
    }
   ],
   "source": [
    "df=pd.read_csv('placement.csv')\n",
    "df.head()"
   ]
  },
  {
   "cell_type": "code",
   "execution_count": 3,
   "id": "11a6e955",
   "metadata": {},
   "outputs": [
    {
     "data": {
      "text/html": [
       "<div>\n",
       "<style scoped>\n",
       "    .dataframe tbody tr th:only-of-type {\n",
       "        vertical-align: middle;\n",
       "    }\n",
       "\n",
       "    .dataframe tbody tr th {\n",
       "        vertical-align: top;\n",
       "    }\n",
       "\n",
       "    .dataframe thead th {\n",
       "        text-align: right;\n",
       "    }\n",
       "</style>\n",
       "<table border=\"1\" class=\"dataframe\">\n",
       "  <thead>\n",
       "    <tr style=\"text-align: right;\">\n",
       "      <th></th>\n",
       "      <th>cgpa</th>\n",
       "      <th>package</th>\n",
       "    </tr>\n",
       "  </thead>\n",
       "  <tbody>\n",
       "    <tr>\n",
       "      <th>195</th>\n",
       "      <td>6.93</td>\n",
       "      <td>2.46</td>\n",
       "    </tr>\n",
       "    <tr>\n",
       "      <th>196</th>\n",
       "      <td>5.89</td>\n",
       "      <td>2.57</td>\n",
       "    </tr>\n",
       "    <tr>\n",
       "      <th>197</th>\n",
       "      <td>7.21</td>\n",
       "      <td>3.24</td>\n",
       "    </tr>\n",
       "    <tr>\n",
       "      <th>198</th>\n",
       "      <td>7.63</td>\n",
       "      <td>3.96</td>\n",
       "    </tr>\n",
       "    <tr>\n",
       "      <th>199</th>\n",
       "      <td>6.22</td>\n",
       "      <td>2.33</td>\n",
       "    </tr>\n",
       "  </tbody>\n",
       "</table>\n",
       "</div>"
      ],
      "text/plain": [
       "     cgpa  package\n",
       "195  6.93     2.46\n",
       "196  5.89     2.57\n",
       "197  7.21     3.24\n",
       "198  7.63     3.96\n",
       "199  6.22     2.33"
      ]
     },
     "execution_count": 3,
     "metadata": {},
     "output_type": "execute_result"
    }
   ],
   "source": [
    "df.tail()"
   ]
  },
  {
   "cell_type": "code",
   "execution_count": 4,
   "id": "a3e3654f",
   "metadata": {},
   "outputs": [
    {
     "data": {
      "text/plain": [
       "(200, 2)"
      ]
     },
     "execution_count": 4,
     "metadata": {},
     "output_type": "execute_result"
    }
   ],
   "source": [
    "df.shape"
   ]
  },
  {
   "cell_type": "code",
   "execution_count": 5,
   "id": "a3639e68",
   "metadata": {},
   "outputs": [
    {
     "data": {
      "text/plain": [
       "2"
      ]
     },
     "execution_count": 5,
     "metadata": {},
     "output_type": "execute_result"
    }
   ],
   "source": [
    "df.ndim"
   ]
  },
  {
   "cell_type": "code",
   "execution_count": 6,
   "id": "d26d012e",
   "metadata": {},
   "outputs": [
    {
     "data": {
      "text/plain": [
       "cgpa       float64\n",
       "package    float64\n",
       "dtype: object"
      ]
     },
     "execution_count": 6,
     "metadata": {},
     "output_type": "execute_result"
    }
   ],
   "source": [
    "df.dtypes"
   ]
  },
  {
   "cell_type": "code",
   "execution_count": 7,
   "id": "f11e9858",
   "metadata": {},
   "outputs": [
    {
     "data": {
      "text/plain": [
       "cgpa       0\n",
       "package    0\n",
       "dtype: int64"
      ]
     },
     "execution_count": 7,
     "metadata": {},
     "output_type": "execute_result"
    }
   ],
   "source": [
    "df.isna().sum()"
   ]
  },
  {
   "cell_type": "code",
   "execution_count": 8,
   "id": "d98d4caa",
   "metadata": {},
   "outputs": [],
   "source": [
    "x=df.iloc[:,:-1]\n",
    "y=df.iloc[:,-1]"
   ]
  },
  {
   "cell_type": "code",
   "execution_count": 9,
   "id": "ee808180",
   "metadata": {},
   "outputs": [
    {
     "data": {
      "text/html": [
       "<div>\n",
       "<style scoped>\n",
       "    .dataframe tbody tr th:only-of-type {\n",
       "        vertical-align: middle;\n",
       "    }\n",
       "\n",
       "    .dataframe tbody tr th {\n",
       "        vertical-align: top;\n",
       "    }\n",
       "\n",
       "    .dataframe thead th {\n",
       "        text-align: right;\n",
       "    }\n",
       "</style>\n",
       "<table border=\"1\" class=\"dataframe\">\n",
       "  <thead>\n",
       "    <tr style=\"text-align: right;\">\n",
       "      <th></th>\n",
       "      <th>cgpa</th>\n",
       "    </tr>\n",
       "  </thead>\n",
       "  <tbody>\n",
       "    <tr>\n",
       "      <th>0</th>\n",
       "      <td>6.89</td>\n",
       "    </tr>\n",
       "    <tr>\n",
       "      <th>1</th>\n",
       "      <td>5.12</td>\n",
       "    </tr>\n",
       "    <tr>\n",
       "      <th>2</th>\n",
       "      <td>7.82</td>\n",
       "    </tr>\n",
       "    <tr>\n",
       "      <th>3</th>\n",
       "      <td>7.42</td>\n",
       "    </tr>\n",
       "    <tr>\n",
       "      <th>4</th>\n",
       "      <td>6.94</td>\n",
       "    </tr>\n",
       "    <tr>\n",
       "      <th>...</th>\n",
       "      <td>...</td>\n",
       "    </tr>\n",
       "    <tr>\n",
       "      <th>195</th>\n",
       "      <td>6.93</td>\n",
       "    </tr>\n",
       "    <tr>\n",
       "      <th>196</th>\n",
       "      <td>5.89</td>\n",
       "    </tr>\n",
       "    <tr>\n",
       "      <th>197</th>\n",
       "      <td>7.21</td>\n",
       "    </tr>\n",
       "    <tr>\n",
       "      <th>198</th>\n",
       "      <td>7.63</td>\n",
       "    </tr>\n",
       "    <tr>\n",
       "      <th>199</th>\n",
       "      <td>6.22</td>\n",
       "    </tr>\n",
       "  </tbody>\n",
       "</table>\n",
       "<p>200 rows × 1 columns</p>\n",
       "</div>"
      ],
      "text/plain": [
       "     cgpa\n",
       "0    6.89\n",
       "1    5.12\n",
       "2    7.82\n",
       "3    7.42\n",
       "4    6.94\n",
       "..    ...\n",
       "195  6.93\n",
       "196  5.89\n",
       "197  7.21\n",
       "198  7.63\n",
       "199  6.22\n",
       "\n",
       "[200 rows x 1 columns]"
      ]
     },
     "execution_count": 9,
     "metadata": {},
     "output_type": "execute_result"
    }
   ],
   "source": [
    "x"
   ]
  },
  {
   "cell_type": "code",
   "execution_count": 10,
   "id": "95cde19b",
   "metadata": {},
   "outputs": [
    {
     "data": {
      "text/plain": [
       "0      3.26\n",
       "1      1.98\n",
       "2      3.25\n",
       "3      3.67\n",
       "4      3.57\n",
       "       ... \n",
       "195    2.46\n",
       "196    2.57\n",
       "197    3.24\n",
       "198    3.96\n",
       "199    2.33\n",
       "Name: package, Length: 200, dtype: float64"
      ]
     },
     "execution_count": 10,
     "metadata": {},
     "output_type": "execute_result"
    }
   ],
   "source": [
    "y"
   ]
  },
  {
   "cell_type": "code",
   "execution_count": 11,
   "id": "ae26a55e",
   "metadata": {},
   "outputs": [],
   "source": [
    "#train test split\n",
    "from sklearn.model_selection import train_test_split\n",
    "x_train,x_test,y_train,y_test=train_test_split(x,y,test_size=0.30,random_state=1)"
   ]
  },
  {
   "cell_type": "code",
   "execution_count": 12,
   "id": "07179f6a",
   "metadata": {},
   "outputs": [
    {
     "data": {
      "text/plain": [
       "Text(0, 0.5, 'Salary(LPA)')"
      ]
     },
     "execution_count": 12,
     "metadata": {},
     "output_type": "execute_result"
    },
    {
     "data": {
      "image/png": "[encoded data removed]",
      "text/plain": [
       "<Figure size 640x480 with 1 Axes>"
      ]
     },
     "metadata": {},
     "output_type": "display_data"
    }
   ],
   "source": [
    "plt.scatter(x,y)\n",
    "plt.title('Cgpa vs Salary')\n",
    "plt.xlabel('CGPA')\n",
    "plt.ylabel('Salary(LPA)')"
   ]
  },
  {
   "cell_type": "code",
   "execution_count": 13,
   "id": "5c63e74d",
   "metadata": {},
   "outputs": [
    {
     "data": {
      "text/plain": [
       "array([2.9308411 , 4.35564495, 3.1741003 , 1.89409359, 3.48686212,\n",
       "       3.34206498, 2.76287642, 2.94242488, 3.06405447, 3.9328373 ,\n",
       "       3.56215663, 2.94242488, 2.75129265, 2.64124683, 3.66061868,\n",
       "       3.20885161, 3.96758862, 2.90188168, 2.18947975, 3.30152178,\n",
       "       4.28614232, 2.88450602, 1.87092605, 2.29952558, 3.6142836 ,\n",
       "       2.12576901, 3.91546165, 2.36323632, 1.569748  , 2.06205827,\n",
       "       2.30531747, 3.67799434, 3.492654  , 3.02930316, 2.56595232,\n",
       "       2.38640386, 3.16251653, 3.81120771, 3.15093275, 2.93663299,\n",
       "       3.41735949, 2.58911986, 3.62007548, 3.39998383, 2.30531747,\n",
       "       3.25518669, 2.30531747, 3.22622727, 2.57753609, 2.43273895,\n",
       "       3.37681629, 1.87671794, 3.20305972, 2.67020625, 2.60070363,\n",
       "       3.05826259, 3.68378622, 2.47328215, 2.52540912, 3.50423777])"
      ]
     },
     "execution_count": 13,
     "metadata": {},
     "output_type": "execute_result"
    }
   ],
   "source": [
    "from sklearn.linear_model import LinearRegression\n",
    "model=LinearRegression()\n",
    "model.fit(x_train,y_train)\n",
    "y_pred=model.predict(x_test)\n",
    "y_pred"
   ]
  },
  {
   "cell_type": "code",
   "execution_count": 14,
   "id": "14b6f8cd",
   "metadata": {},
   "outputs": [
    {
     "data": {
      "text/plain": [
       "[<matplotlib.lines.Line2D at 0x208b1111030>]"
      ]
     },
     "execution_count": 14,
     "metadata": {},
     "output_type": "execute_result"
    },
    {
     "data": {
      "image/png": "[encoded data removed]",
      "text/plain": [
       "<Figure size 640x480 with 1 Axes>"
      ]
     },
     "metadata": {},
     "output_type": "display_data"
    }
   ],
   "source": [
    "plt.scatter(x_train,y_train)\n",
    "plt.plot(x_test,y_pred)"
   ]
  },
  {
   "cell_type": "code",
   "execution_count": 15,
   "id": "8c31761c",
   "metadata": {},
   "outputs": [
    {
     "name": "stdout",
     "output_type": "stream",
     "text": [
      "[0.57918855]\n"
     ]
    }
   ],
   "source": [
    "print(model.coef_)"
   ]
  },
  {
   "cell_type": "code",
   "execution_count": 16,
   "id": "2360463f",
   "metadata": {},
   "outputs": [
    {
     "name": "stdout",
     "output_type": "stream",
     "text": [
      "-1.0771436895711588\n"
     ]
    }
   ],
   "source": [
    "print(model.intercept_)"
   ]
  },
  {
   "cell_type": "code",
   "execution_count": 17,
   "id": "0fa85e06",
   "metadata": {},
   "outputs": [
    {
     "name": "stdout",
     "output_type": "stream",
     "text": [
      "[2.10839336]\n"
     ]
    },
    {
     "name": "stderr",
     "output_type": "stream",
     "text": [
      "c:\\Users\\user\\AppData\\Local\\Programs\\Python\\Python310\\lib\\site-packages\\sklearn\\utils\\validation.py:2749: UserWarning: X does not have valid feature names, but LinearRegression was fitted with feature names\n",
      "  warnings.warn(\n"
     ]
    }
   ],
   "source": [
    "print(model.predict([[5.5]]))"
   ]
  },
  {
   "cell_type": "code",
   "execution_count": 18,
   "id": "b38fccee",
   "metadata": {},
   "outputs": [
    {
     "name": "stdout",
     "output_type": "stream",
     "text": [
      "[3.55636474]\n"
     ]
    },
    {
     "name": "stderr",
     "output_type": "stream",
     "text": [
      "c:\\Users\\user\\AppData\\Local\\Programs\\Python\\Python310\\lib\\site-packages\\sklearn\\utils\\validation.py:2749: UserWarning: X does not have valid feature names, but LinearRegression was fitted with feature names\n",
      "  warnings.warn(\n"
     ]
    }
   ],
   "source": [
    "print(model.predict([[8]]))"
   ]
  },
  {
   "cell_type": "code",
   "execution_count": 19,
   "id": "8006b961",
   "metadata": {},
   "outputs": [
    {
     "data": {
      "text/html": [
       "<div>\n",
       "<style scoped>\n",
       "    .dataframe tbody tr th:only-of-type {\n",
       "        vertical-align: middle;\n",
       "    }\n",
       "\n",
       "    .dataframe tbody tr th {\n",
       "        vertical-align: top;\n",
       "    }\n",
       "\n",
       "    .dataframe thead th {\n",
       "        text-align: right;\n",
       "    }\n",
       "</style>\n",
       "<table border=\"1\" class=\"dataframe\">\n",
       "  <thead>\n",
       "    <tr style=\"text-align: right;\">\n",
       "      <th></th>\n",
       "      <th>Actual_value</th>\n",
       "      <th>Predicted_value</th>\n",
       "      <th>Difference</th>\n",
       "    </tr>\n",
       "  </thead>\n",
       "  <tbody>\n",
       "    <tr>\n",
       "      <th>58</th>\n",
       "      <td>3.09</td>\n",
       "      <td>2.930841</td>\n",
       "      <td>0.159159</td>\n",
       "    </tr>\n",
       "    <tr>\n",
       "      <th>40</th>\n",
       "      <td>4.02</td>\n",
       "      <td>4.355645</td>\n",
       "      <td>-0.335645</td>\n",
       "    </tr>\n",
       "    <tr>\n",
       "      <th>34</th>\n",
       "      <td>3.42</td>\n",
       "      <td>3.174100</td>\n",
       "      <td>0.245900</td>\n",
       "    </tr>\n",
       "    <tr>\n",
       "      <th>102</th>\n",
       "      <td>1.37</td>\n",
       "      <td>1.894094</td>\n",
       "      <td>-0.524094</td>\n",
       "    </tr>\n",
       "    <tr>\n",
       "      <th>184</th>\n",
       "      <td>3.14</td>\n",
       "      <td>3.486862</td>\n",
       "      <td>-0.346862</td>\n",
       "    </tr>\n",
       "    <tr>\n",
       "      <th>198</th>\n",
       "      <td>3.96</td>\n",
       "      <td>3.342065</td>\n",
       "      <td>0.617935</td>\n",
       "    </tr>\n",
       "    <tr>\n",
       "      <th>95</th>\n",
       "      <td>2.79</td>\n",
       "      <td>2.762876</td>\n",
       "      <td>0.027124</td>\n",
       "    </tr>\n",
       "    <tr>\n",
       "      <th>4</th>\n",
       "      <td>3.57</td>\n",
       "      <td>2.942425</td>\n",
       "      <td>0.627575</td>\n",
       "    </tr>\n",
       "    <tr>\n",
       "      <th>29</th>\n",
       "      <td>3.49</td>\n",
       "      <td>3.064054</td>\n",
       "      <td>0.425946</td>\n",
       "    </tr>\n",
       "    <tr>\n",
       "      <th>168</th>\n",
       "      <td>3.52</td>\n",
       "      <td>3.932837</td>\n",
       "      <td>-0.412837</td>\n",
       "    </tr>\n",
       "    <tr>\n",
       "      <th>171</th>\n",
       "      <td>3.76</td>\n",
       "      <td>3.562157</td>\n",
       "      <td>0.197843</td>\n",
       "    </tr>\n",
       "    <tr>\n",
       "      <th>18</th>\n",
       "      <td>2.98</td>\n",
       "      <td>2.942425</td>\n",
       "      <td>0.037575</td>\n",
       "    </tr>\n",
       "    <tr>\n",
       "      <th>11</th>\n",
       "      <td>2.60</td>\n",
       "      <td>2.751293</td>\n",
       "      <td>-0.151293</td>\n",
       "    </tr>\n",
       "    <tr>\n",
       "      <th>89</th>\n",
       "      <td>2.72</td>\n",
       "      <td>2.641247</td>\n",
       "      <td>0.078753</td>\n",
       "    </tr>\n",
       "    <tr>\n",
       "      <th>110</th>\n",
       "      <td>3.76</td>\n",
       "      <td>3.660619</td>\n",
       "      <td>0.099381</td>\n",
       "    </tr>\n",
       "    <tr>\n",
       "      <th>118</th>\n",
       "      <td>2.88</td>\n",
       "      <td>3.208852</td>\n",
       "      <td>-0.328852</td>\n",
       "    </tr>\n",
       "    <tr>\n",
       "      <th>159</th>\n",
       "      <td>4.08</td>\n",
       "      <td>3.967589</td>\n",
       "      <td>0.112411</td>\n",
       "    </tr>\n",
       "    <tr>\n",
       "      <th>35</th>\n",
       "      <td>2.87</td>\n",
       "      <td>2.901882</td>\n",
       "      <td>-0.031882</td>\n",
       "    </tr>\n",
       "    <tr>\n",
       "      <th>136</th>\n",
       "      <td>2.10</td>\n",
       "      <td>2.189480</td>\n",
       "      <td>-0.089480</td>\n",
       "    </tr>\n",
       "    <tr>\n",
       "      <th>59</th>\n",
       "      <td>3.31</td>\n",
       "      <td>3.301522</td>\n",
       "      <td>0.008478</td>\n",
       "    </tr>\n",
       "    <tr>\n",
       "      <th>51</th>\n",
       "      <td>3.79</td>\n",
       "      <td>4.286142</td>\n",
       "      <td>-0.496142</td>\n",
       "    </tr>\n",
       "    <tr>\n",
       "      <th>16</th>\n",
       "      <td>2.35</td>\n",
       "      <td>2.884506</td>\n",
       "      <td>-0.534506</td>\n",
       "    </tr>\n",
       "    <tr>\n",
       "      <th>44</th>\n",
       "      <td>1.86</td>\n",
       "      <td>1.870926</td>\n",
       "      <td>-0.010926</td>\n",
       "    </tr>\n",
       "    <tr>\n",
       "      <th>94</th>\n",
       "      <td>2.42</td>\n",
       "      <td>2.299526</td>\n",
       "      <td>0.120474</td>\n",
       "    </tr>\n",
       "    <tr>\n",
       "      <th>31</th>\n",
       "      <td>3.89</td>\n",
       "      <td>3.614284</td>\n",
       "      <td>0.275716</td>\n",
       "    </tr>\n",
       "    <tr>\n",
       "      <th>162</th>\n",
       "      <td>2.55</td>\n",
       "      <td>2.125769</td>\n",
       "      <td>0.424231</td>\n",
       "    </tr>\n",
       "    <tr>\n",
       "      <th>38</th>\n",
       "      <td>4.36</td>\n",
       "      <td>3.915462</td>\n",
       "      <td>0.444538</td>\n",
       "    </tr>\n",
       "    <tr>\n",
       "      <th>28</th>\n",
       "      <td>2.24</td>\n",
       "      <td>2.363236</td>\n",
       "      <td>-0.123236</td>\n",
       "    </tr>\n",
       "    <tr>\n",
       "      <th>193</th>\n",
       "      <td>1.94</td>\n",
       "      <td>1.569748</td>\n",
       "      <td>0.370252</td>\n",
       "    </tr>\n",
       "    <tr>\n",
       "      <th>27</th>\n",
       "      <td>2.16</td>\n",
       "      <td>2.062058</td>\n",
       "      <td>0.097942</td>\n",
       "    </tr>\n",
       "    <tr>\n",
       "      <th>47</th>\n",
       "      <td>3.26</td>\n",
       "      <td>2.305317</td>\n",
       "      <td>0.954683</td>\n",
       "    </tr>\n",
       "    <tr>\n",
       "      <th>165</th>\n",
       "      <td>4.08</td>\n",
       "      <td>3.677994</td>\n",
       "      <td>0.402006</td>\n",
       "    </tr>\n",
       "    <tr>\n",
       "      <th>194</th>\n",
       "      <td>3.67</td>\n",
       "      <td>3.492654</td>\n",
       "      <td>0.177346</td>\n",
       "    </tr>\n",
       "    <tr>\n",
       "      <th>177</th>\n",
       "      <td>3.64</td>\n",
       "      <td>3.029303</td>\n",
       "      <td>0.610697</td>\n",
       "    </tr>\n",
       "    <tr>\n",
       "      <th>176</th>\n",
       "      <td>3.23</td>\n",
       "      <td>2.565952</td>\n",
       "      <td>0.664048</td>\n",
       "    </tr>\n",
       "    <tr>\n",
       "      <th>97</th>\n",
       "      <td>2.84</td>\n",
       "      <td>2.386404</td>\n",
       "      <td>0.453596</td>\n",
       "    </tr>\n",
       "    <tr>\n",
       "      <th>174</th>\n",
       "      <td>2.99</td>\n",
       "      <td>3.162517</td>\n",
       "      <td>-0.172517</td>\n",
       "    </tr>\n",
       "    <tr>\n",
       "      <th>73</th>\n",
       "      <td>4.03</td>\n",
       "      <td>3.811208</td>\n",
       "      <td>0.218792</td>\n",
       "    </tr>\n",
       "    <tr>\n",
       "      <th>69</th>\n",
       "      <td>2.94</td>\n",
       "      <td>3.150933</td>\n",
       "      <td>-0.210933</td>\n",
       "    </tr>\n",
       "    <tr>\n",
       "      <th>172</th>\n",
       "      <td>2.51</td>\n",
       "      <td>2.936633</td>\n",
       "      <td>-0.426633</td>\n",
       "    </tr>\n",
       "    <tr>\n",
       "      <th>108</th>\n",
       "      <td>3.54</td>\n",
       "      <td>3.417359</td>\n",
       "      <td>0.122641</td>\n",
       "    </tr>\n",
       "    <tr>\n",
       "      <th>107</th>\n",
       "      <td>2.59</td>\n",
       "      <td>2.589120</td>\n",
       "      <td>0.000880</td>\n",
       "    </tr>\n",
       "    <tr>\n",
       "      <th>189</th>\n",
       "      <td>4.06</td>\n",
       "      <td>3.620075</td>\n",
       "      <td>0.439925</td>\n",
       "    </tr>\n",
       "    <tr>\n",
       "      <th>14</th>\n",
       "      <td>3.42</td>\n",
       "      <td>3.399984</td>\n",
       "      <td>0.020016</td>\n",
       "    </tr>\n",
       "    <tr>\n",
       "      <th>56</th>\n",
       "      <td>2.74</td>\n",
       "      <td>2.305317</td>\n",
       "      <td>0.434683</td>\n",
       "    </tr>\n",
       "    <tr>\n",
       "      <th>19</th>\n",
       "      <td>2.83</td>\n",
       "      <td>3.255187</td>\n",
       "      <td>-0.425187</td>\n",
       "    </tr>\n",
       "    <tr>\n",
       "      <th>114</th>\n",
       "      <td>1.87</td>\n",
       "      <td>2.305317</td>\n",
       "      <td>-0.435317</td>\n",
       "    </tr>\n",
       "    <tr>\n",
       "      <th>39</th>\n",
       "      <td>3.33</td>\n",
       "      <td>3.226227</td>\n",
       "      <td>0.103773</td>\n",
       "    </tr>\n",
       "    <tr>\n",
       "      <th>185</th>\n",
       "      <td>3.18</td>\n",
       "      <td>2.577536</td>\n",
       "      <td>0.602464</td>\n",
       "    </tr>\n",
       "    <tr>\n",
       "      <th>124</th>\n",
       "      <td>2.31</td>\n",
       "      <td>2.432739</td>\n",
       "      <td>-0.122739</td>\n",
       "    </tr>\n",
       "    <tr>\n",
       "      <th>98</th>\n",
       "      <td>3.83</td>\n",
       "      <td>3.376816</td>\n",
       "      <td>0.453184</td>\n",
       "    </tr>\n",
       "    <tr>\n",
       "      <th>123</th>\n",
       "      <td>2.30</td>\n",
       "      <td>1.876718</td>\n",
       "      <td>0.423282</td>\n",
       "    </tr>\n",
       "    <tr>\n",
       "      <th>119</th>\n",
       "      <td>2.65</td>\n",
       "      <td>3.203060</td>\n",
       "      <td>-0.553060</td>\n",
       "    </tr>\n",
       "    <tr>\n",
       "      <th>53</th>\n",
       "      <td>2.61</td>\n",
       "      <td>2.670206</td>\n",
       "      <td>-0.060206</td>\n",
       "    </tr>\n",
       "    <tr>\n",
       "      <th>33</th>\n",
       "      <td>2.73</td>\n",
       "      <td>2.600704</td>\n",
       "      <td>0.129296</td>\n",
       "    </tr>\n",
       "    <tr>\n",
       "      <th>179</th>\n",
       "      <td>3.03</td>\n",
       "      <td>3.058263</td>\n",
       "      <td>-0.028263</td>\n",
       "    </tr>\n",
       "    <tr>\n",
       "      <th>181</th>\n",
       "      <td>3.89</td>\n",
       "      <td>3.683786</td>\n",
       "      <td>0.206214</td>\n",
       "    </tr>\n",
       "    <tr>\n",
       "      <th>106</th>\n",
       "      <td>2.19</td>\n",
       "      <td>2.473282</td>\n",
       "      <td>-0.283282</td>\n",
       "    </tr>\n",
       "    <tr>\n",
       "      <th>199</th>\n",
       "      <td>2.33</td>\n",
       "      <td>2.525409</td>\n",
       "      <td>-0.195409</td>\n",
       "    </tr>\n",
       "    <tr>\n",
       "      <th>138</th>\n",
       "      <td>3.89</td>\n",
       "      <td>3.504238</td>\n",
       "      <td>0.385762</td>\n",
       "    </tr>\n",
       "  </tbody>\n",
       "</table>\n",
       "</div>"
      ],
      "text/plain": [
       "     Actual_value  Predicted_value  Difference\n",
       "58           3.09         2.930841    0.159159\n",
       "40           4.02         4.355645   -0.335645\n",
       "34           3.42         3.174100    0.245900\n",
       "102          1.37         1.894094   -0.524094\n",
       "184          3.14         3.486862   -0.346862\n",
       "198          3.96         3.342065    0.617935\n",
       "95           2.79         2.762876    0.027124\n",
       "4            3.57         2.942425    0.627575\n",
       "29           3.49         3.064054    0.425946\n",
       "168          3.52         3.932837   -0.412837\n",
       "171          3.76         3.562157    0.197843\n",
       "18           2.98         2.942425    0.037575\n",
       "11           2.60         2.751293   -0.151293\n",
       "89           2.72         2.641247    0.078753\n",
       "110          3.76         3.660619    0.099381\n",
       "118          2.88         3.208852   -0.328852\n",
       "159          4.08         3.967589    0.112411\n",
       "35           2.87         2.901882   -0.031882\n",
       "136          2.10         2.189480   -0.089480\n",
       "59           3.31         3.301522    0.008478\n",
       "51           3.79         4.286142   -0.496142\n",
       "16           2.35         2.884506   -0.534506\n",
       "44           1.86         1.870926   -0.010926\n",
       "94           2.42         2.299526    0.120474\n",
       "31           3.89         3.614284    0.275716\n",
       "162          2.55         2.125769    0.424231\n",
       "38           4.36         3.915462    0.444538\n",
       "28           2.24         2.363236   -0.123236\n",
       "193          1.94         1.569748    0.370252\n",
       "27           2.16         2.062058    0.097942\n",
       "47           3.26         2.305317    0.954683\n",
       "165          4.08         3.677994    0.402006\n",
       "194          3.67         3.492654    0.177346\n",
       "177          3.64         3.029303    0.610697\n",
       "176          3.23         2.565952    0.664048\n",
       "97           2.84         2.386404    0.453596\n",
       "174          2.99         3.162517   -0.172517\n",
       "73           4.03         3.811208    0.218792\n",
       "69           2.94         3.150933   -0.210933\n",
       "172          2.51         2.936633   -0.426633\n",
       "108          3.54         3.417359    0.122641\n",
       "107          2.59         2.589120    0.000880\n",
       "189          4.06         3.620075    0.439925\n",
       "14           3.42         3.399984    0.020016\n",
       "56           2.74         2.305317    0.434683\n",
       "19           2.83         3.255187   -0.425187\n",
       "114          1.87         2.305317   -0.435317\n",
       "39           3.33         3.226227    0.103773\n",
       "185          3.18         2.577536    0.602464\n",
       "124          2.31         2.432739   -0.122739\n",
       "98           3.83         3.376816    0.453184\n",
       "123          2.30         1.876718    0.423282\n",
       "119          2.65         3.203060   -0.553060\n",
       "53           2.61         2.670206   -0.060206\n",
       "33           2.73         2.600704    0.129296\n",
       "179          3.03         3.058263   -0.028263\n",
       "181          3.89         3.683786    0.206214\n",
       "106          2.19         2.473282   -0.283282\n",
       "199          2.33         2.525409   -0.195409\n",
       "138          3.89         3.504238    0.385762"
      ]
     },
     "execution_count": 19,
     "metadata": {},
     "output_type": "execute_result"
    }
   ],
   "source": [
    "#Dataframe\n",
    "#Actual value,Predicted value,Difference\n",
    "df1=pd.DataFrame({'Actual_value':y_test,'Predicted_value':y_pred,'Difference':y_test-y_pred})\n",
    "df1"
   ]
  },
  {
   "cell_type": "code",
   "execution_count": 20,
   "id": "ea7b49d4",
   "metadata": {},
   "outputs": [
    {
     "data": {
      "text/plain": [
       "0.29123032866083737"
      ]
     },
     "execution_count": 20,
     "metadata": {},
     "output_type": "execute_result"
    }
   ],
   "source": [
    "#Evaluation\n",
    "from sklearn.metrics import mean_absolute_error,mean_absolute_percentage_error,mean_squared_error,root_mean_squared_error,r2_score\n",
    "m1=mean_absolute_error(y_test,y_pred)\n",
    "m1"
   ]
  },
  {
   "cell_type": "code",
   "execution_count": 21,
   "id": "6b557201",
   "metadata": {},
   "outputs": [
    {
     "data": {
      "text/plain": [
       "0.09915622734884548"
      ]
     },
     "execution_count": 21,
     "metadata": {},
     "output_type": "execute_result"
    }
   ],
   "source": [
    "#MAPE\n",
    "m2=mean_absolute_percentage_error(y_test,y_pred)\n",
    "m2"
   ]
  },
  {
   "cell_type": "code",
   "execution_count": 22,
   "id": "e52f9ffc",
   "metadata": {},
   "outputs": [
    {
     "data": {
      "text/plain": [
       "0.12832846117851823"
      ]
     },
     "execution_count": 22,
     "metadata": {},
     "output_type": "execute_result"
    }
   ],
   "source": [
    "#MSE\n",
    "m3=mean_squared_error(y_test,y_pred)\n",
    "m3"
   ]
  },
  {
   "cell_type": "code",
   "execution_count": 23,
   "id": "365ca977",
   "metadata": {},
   "outputs": [
    {
     "data": {
      "text/plain": [
       "0.35822962074417886"
      ]
     },
     "execution_count": 23,
     "metadata": {},
     "output_type": "execute_result"
    }
   ],
   "source": [
    "#RMSE\n",
    "m4=root_mean_squared_error(y_test,y_pred)\n",
    "m4"
   ]
  },
  {
   "cell_type": "code",
   "execution_count": 24,
   "id": "042db52a",
   "metadata": {},
   "outputs": [
    {
     "data": {
      "text/plain": [
       "0.7286201158620718"
      ]
     },
     "execution_count": 24,
     "metadata": {},
     "output_type": "execute_result"
    }
   ],
   "source": [
    "#r2_score\n",
    "m5=r2_score(y_test,y_pred)\n",
    "m5"
   ]
  }
 ],
 "metadata": {
  "kernelspec": {
   "display_name": "Python 3",
   "language": "python",
   "name": "python3"
  },
  "language_info": {
   "codemirror_mode": {
    "name": "ipython",
    "version": 3
   },
   "file_extension": ".py",
   "mimetype": "text/x-python",
   "name": "python",
   "nbconvert_exporter": "python",
   "pygments_lexer": "ipython3",
   "version": "3.10.10"
  }
 },
 "nbformat": 4,
 "nbformat_minor": 5
}

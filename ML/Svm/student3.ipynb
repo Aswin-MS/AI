{
 "cells": [
  {
   "cell_type": "code",
   "execution_count": 113,
   "id": "380fe81b",
   "metadata": {},
   "outputs": [],
   "source": [
    "import numpy as np\n",
    "import pandas as pd\n",
    "import matplotlib.pyplot as plt\n",
    "import seaborn as sns"
   ]
  },
  {
   "cell_type": "code",
   "execution_count": 114,
   "id": "822d206d",
   "metadata": {},
   "outputs": [
    {
     "data": {
      "text/html": [
       "<div>\n",
       "<style scoped>\n",
       "    .dataframe tbody tr th:only-of-type {\n",
       "        vertical-align: middle;\n",
       "    }\n",
       "\n",
       "    .dataframe tbody tr th {\n",
       "        vertical-align: top;\n",
       "    }\n",
       "\n",
       "    .dataframe thead th {\n",
       "        text-align: right;\n",
       "    }\n",
       "</style>\n",
       "<table border=\"1\" class=\"dataframe\">\n",
       "  <thead>\n",
       "    <tr style=\"text-align: right;\">\n",
       "      <th></th>\n",
       "      <th>Student_ID</th>\n",
       "      <th>Age</th>\n",
       "      <th>Gender</th>\n",
       "      <th>Academic_Level</th>\n",
       "      <th>Country</th>\n",
       "      <th>Avg_Daily_Usage_Hours</th>\n",
       "      <th>Most_Used_Platform</th>\n",
       "      <th>Affects_Academic_Performance</th>\n",
       "      <th>Sleep_Hours_Per_Night</th>\n",
       "      <th>Mental_Health_Score</th>\n",
       "      <th>Relationship_Status</th>\n",
       "      <th>Conflicts_Over_Social_Media</th>\n",
       "      <th>Addicted_Score</th>\n",
       "    </tr>\n",
       "  </thead>\n",
       "  <tbody>\n",
       "    <tr>\n",
       "      <th>0</th>\n",
       "      <td>1</td>\n",
       "      <td>19</td>\n",
       "      <td>Female</td>\n",
       "      <td>Undergraduate</td>\n",
       "      <td>Bangladesh</td>\n",
       "      <td>5.2</td>\n",
       "      <td>Instagram</td>\n",
       "      <td>Yes</td>\n",
       "      <td>6.5</td>\n",
       "      <td>6</td>\n",
       "      <td>In Relationship</td>\n",
       "      <td>3</td>\n",
       "      <td>8</td>\n",
       "    </tr>\n",
       "    <tr>\n",
       "      <th>1</th>\n",
       "      <td>2</td>\n",
       "      <td>22</td>\n",
       "      <td>Male</td>\n",
       "      <td>Graduate</td>\n",
       "      <td>India</td>\n",
       "      <td>2.1</td>\n",
       "      <td>Twitter</td>\n",
       "      <td>No</td>\n",
       "      <td>7.5</td>\n",
       "      <td>8</td>\n",
       "      <td>Single</td>\n",
       "      <td>0</td>\n",
       "      <td>3</td>\n",
       "    </tr>\n",
       "    <tr>\n",
       "      <th>2</th>\n",
       "      <td>3</td>\n",
       "      <td>20</td>\n",
       "      <td>Female</td>\n",
       "      <td>Undergraduate</td>\n",
       "      <td>USA</td>\n",
       "      <td>6.0</td>\n",
       "      <td>TikTok</td>\n",
       "      <td>Yes</td>\n",
       "      <td>5.0</td>\n",
       "      <td>5</td>\n",
       "      <td>Complicated</td>\n",
       "      <td>4</td>\n",
       "      <td>9</td>\n",
       "    </tr>\n",
       "    <tr>\n",
       "      <th>3</th>\n",
       "      <td>4</td>\n",
       "      <td>18</td>\n",
       "      <td>Male</td>\n",
       "      <td>High School</td>\n",
       "      <td>UK</td>\n",
       "      <td>3.0</td>\n",
       "      <td>YouTube</td>\n",
       "      <td>No</td>\n",
       "      <td>7.0</td>\n",
       "      <td>7</td>\n",
       "      <td>Single</td>\n",
       "      <td>1</td>\n",
       "      <td>4</td>\n",
       "    </tr>\n",
       "    <tr>\n",
       "      <th>4</th>\n",
       "      <td>5</td>\n",
       "      <td>21</td>\n",
       "      <td>Male</td>\n",
       "      <td>Graduate</td>\n",
       "      <td>Canada</td>\n",
       "      <td>4.5</td>\n",
       "      <td>Facebook</td>\n",
       "      <td>Yes</td>\n",
       "      <td>6.0</td>\n",
       "      <td>6</td>\n",
       "      <td>In Relationship</td>\n",
       "      <td>2</td>\n",
       "      <td>7</td>\n",
       "    </tr>\n",
       "    <tr>\n",
       "      <th>...</th>\n",
       "      <td>...</td>\n",
       "      <td>...</td>\n",
       "      <td>...</td>\n",
       "      <td>...</td>\n",
       "      <td>...</td>\n",
       "      <td>...</td>\n",
       "      <td>...</td>\n",
       "      <td>...</td>\n",
       "      <td>...</td>\n",
       "      <td>...</td>\n",
       "      <td>...</td>\n",
       "      <td>...</td>\n",
       "      <td>...</td>\n",
       "    </tr>\n",
       "    <tr>\n",
       "      <th>700</th>\n",
       "      <td>701</td>\n",
       "      <td>20</td>\n",
       "      <td>Female</td>\n",
       "      <td>Undergraduate</td>\n",
       "      <td>Italy</td>\n",
       "      <td>4.7</td>\n",
       "      <td>TikTok</td>\n",
       "      <td>No</td>\n",
       "      <td>7.2</td>\n",
       "      <td>7</td>\n",
       "      <td>In Relationship</td>\n",
       "      <td>2</td>\n",
       "      <td>5</td>\n",
       "    </tr>\n",
       "    <tr>\n",
       "      <th>701</th>\n",
       "      <td>702</td>\n",
       "      <td>23</td>\n",
       "      <td>Male</td>\n",
       "      <td>Graduate</td>\n",
       "      <td>Russia</td>\n",
       "      <td>6.8</td>\n",
       "      <td>Instagram</td>\n",
       "      <td>Yes</td>\n",
       "      <td>5.9</td>\n",
       "      <td>4</td>\n",
       "      <td>Single</td>\n",
       "      <td>5</td>\n",
       "      <td>9</td>\n",
       "    </tr>\n",
       "    <tr>\n",
       "      <th>702</th>\n",
       "      <td>703</td>\n",
       "      <td>21</td>\n",
       "      <td>Female</td>\n",
       "      <td>Undergraduate</td>\n",
       "      <td>China</td>\n",
       "      <td>5.6</td>\n",
       "      <td>WeChat</td>\n",
       "      <td>Yes</td>\n",
       "      <td>6.7</td>\n",
       "      <td>6</td>\n",
       "      <td>In Relationship</td>\n",
       "      <td>3</td>\n",
       "      <td>7</td>\n",
       "    </tr>\n",
       "    <tr>\n",
       "      <th>703</th>\n",
       "      <td>704</td>\n",
       "      <td>24</td>\n",
       "      <td>Male</td>\n",
       "      <td>Graduate</td>\n",
       "      <td>Japan</td>\n",
       "      <td>4.3</td>\n",
       "      <td>Twitter</td>\n",
       "      <td>No</td>\n",
       "      <td>7.5</td>\n",
       "      <td>8</td>\n",
       "      <td>Single</td>\n",
       "      <td>2</td>\n",
       "      <td>4</td>\n",
       "    </tr>\n",
       "    <tr>\n",
       "      <th>704</th>\n",
       "      <td>705</td>\n",
       "      <td>19</td>\n",
       "      <td>Female</td>\n",
       "      <td>Undergraduate</td>\n",
       "      <td>Poland</td>\n",
       "      <td>6.2</td>\n",
       "      <td>Facebook</td>\n",
       "      <td>Yes</td>\n",
       "      <td>6.3</td>\n",
       "      <td>5</td>\n",
       "      <td>Single</td>\n",
       "      <td>4</td>\n",
       "      <td>8</td>\n",
       "    </tr>\n",
       "  </tbody>\n",
       "</table>\n",
       "<p>705 rows × 13 columns</p>\n",
       "</div>"
      ],
      "text/plain": [
       "     Student_ID  Age  Gender Academic_Level     Country  \\\n",
       "0             1   19  Female  Undergraduate  Bangladesh   \n",
       "1             2   22    Male       Graduate       India   \n",
       "2             3   20  Female  Undergraduate         USA   \n",
       "3             4   18    Male    High School          UK   \n",
       "4             5   21    Male       Graduate      Canada   \n",
       "..          ...  ...     ...            ...         ...   \n",
       "700         701   20  Female  Undergraduate       Italy   \n",
       "701         702   23    Male       Graduate      Russia   \n",
       "702         703   21  Female  Undergraduate       China   \n",
       "703         704   24    Male       Graduate       Japan   \n",
       "704         705   19  Female  Undergraduate      Poland   \n",
       "\n",
       "     Avg_Daily_Usage_Hours Most_Used_Platform Affects_Academic_Performance  \\\n",
       "0                      5.2          Instagram                          Yes   \n",
       "1                      2.1            Twitter                           No   \n",
       "2                      6.0             TikTok                          Yes   \n",
       "3                      3.0            YouTube                           No   \n",
       "4                      4.5           Facebook                          Yes   \n",
       "..                     ...                ...                          ...   \n",
       "700                    4.7             TikTok                           No   \n",
       "701                    6.8          Instagram                          Yes   \n",
       "702                    5.6             WeChat                          Yes   \n",
       "703                    4.3            Twitter                           No   \n",
       "704                    6.2           Facebook                          Yes   \n",
       "\n",
       "     Sleep_Hours_Per_Night  Mental_Health_Score Relationship_Status  \\\n",
       "0                      6.5                    6     In Relationship   \n",
       "1                      7.5                    8              Single   \n",
       "2                      5.0                    5         Complicated   \n",
       "3                      7.0                    7              Single   \n",
       "4                      6.0                    6     In Relationship   \n",
       "..                     ...                  ...                 ...   \n",
       "700                    7.2                    7     In Relationship   \n",
       "701                    5.9                    4              Single   \n",
       "702                    6.7                    6     In Relationship   \n",
       "703                    7.5                    8              Single   \n",
       "704                    6.3                    5              Single   \n",
       "\n",
       "     Conflicts_Over_Social_Media  Addicted_Score  \n",
       "0                              3               8  \n",
       "1                              0               3  \n",
       "2                              4               9  \n",
       "3                              1               4  \n",
       "4                              2               7  \n",
       "..                           ...             ...  \n",
       "700                            2               5  \n",
       "701                            5               9  \n",
       "702                            3               7  \n",
       "703                            2               4  \n",
       "704                            4               8  \n",
       "\n",
       "[705 rows x 13 columns]"
      ]
     },
     "execution_count": 114,
     "metadata": {},
     "output_type": "execute_result"
    }
   ],
   "source": [
    "df=pd.read_csv('Students_social_media_addiction.csv')\n",
    "df"
   ]
  },
  {
   "cell_type": "code",
   "execution_count": 115,
   "id": "c83e7f38",
   "metadata": {},
   "outputs": [
    {
     "data": {
      "text/html": [
       "<div>\n",
       "<style scoped>\n",
       "    .dataframe tbody tr th:only-of-type {\n",
       "        vertical-align: middle;\n",
       "    }\n",
       "\n",
       "    .dataframe tbody tr th {\n",
       "        vertical-align: top;\n",
       "    }\n",
       "\n",
       "    .dataframe thead th {\n",
       "        text-align: right;\n",
       "    }\n",
       "</style>\n",
       "<table border=\"1\" class=\"dataframe\">\n",
       "  <thead>\n",
       "    <tr style=\"text-align: right;\">\n",
       "      <th></th>\n",
       "      <th>Student_ID</th>\n",
       "      <th>Age</th>\n",
       "      <th>Gender</th>\n",
       "      <th>Academic_Level</th>\n",
       "      <th>Country</th>\n",
       "      <th>Avg_Daily_Usage_Hours</th>\n",
       "      <th>Most_Used_Platform</th>\n",
       "      <th>Affects_Academic_Performance</th>\n",
       "      <th>Sleep_Hours_Per_Night</th>\n",
       "      <th>Mental_Health_Score</th>\n",
       "      <th>Relationship_Status</th>\n",
       "      <th>Conflicts_Over_Social_Media</th>\n",
       "      <th>Addicted_Score</th>\n",
       "    </tr>\n",
       "  </thead>\n",
       "  <tbody>\n",
       "    <tr>\n",
       "      <th>0</th>\n",
       "      <td>1</td>\n",
       "      <td>19</td>\n",
       "      <td>Female</td>\n",
       "      <td>Undergraduate</td>\n",
       "      <td>Bangladesh</td>\n",
       "      <td>5.2</td>\n",
       "      <td>Instagram</td>\n",
       "      <td>Yes</td>\n",
       "      <td>6.5</td>\n",
       "      <td>6</td>\n",
       "      <td>In Relationship</td>\n",
       "      <td>3</td>\n",
       "      <td>8</td>\n",
       "    </tr>\n",
       "    <tr>\n",
       "      <th>1</th>\n",
       "      <td>2</td>\n",
       "      <td>22</td>\n",
       "      <td>Male</td>\n",
       "      <td>Graduate</td>\n",
       "      <td>India</td>\n",
       "      <td>2.1</td>\n",
       "      <td>Twitter</td>\n",
       "      <td>No</td>\n",
       "      <td>7.5</td>\n",
       "      <td>8</td>\n",
       "      <td>Single</td>\n",
       "      <td>0</td>\n",
       "      <td>3</td>\n",
       "    </tr>\n",
       "    <tr>\n",
       "      <th>2</th>\n",
       "      <td>3</td>\n",
       "      <td>20</td>\n",
       "      <td>Female</td>\n",
       "      <td>Undergraduate</td>\n",
       "      <td>USA</td>\n",
       "      <td>6.0</td>\n",
       "      <td>TikTok</td>\n",
       "      <td>Yes</td>\n",
       "      <td>5.0</td>\n",
       "      <td>5</td>\n",
       "      <td>Complicated</td>\n",
       "      <td>4</td>\n",
       "      <td>9</td>\n",
       "    </tr>\n",
       "    <tr>\n",
       "      <th>3</th>\n",
       "      <td>4</td>\n",
       "      <td>18</td>\n",
       "      <td>Male</td>\n",
       "      <td>High School</td>\n",
       "      <td>UK</td>\n",
       "      <td>3.0</td>\n",
       "      <td>YouTube</td>\n",
       "      <td>No</td>\n",
       "      <td>7.0</td>\n",
       "      <td>7</td>\n",
       "      <td>Single</td>\n",
       "      <td>1</td>\n",
       "      <td>4</td>\n",
       "    </tr>\n",
       "    <tr>\n",
       "      <th>4</th>\n",
       "      <td>5</td>\n",
       "      <td>21</td>\n",
       "      <td>Male</td>\n",
       "      <td>Graduate</td>\n",
       "      <td>Canada</td>\n",
       "      <td>4.5</td>\n",
       "      <td>Facebook</td>\n",
       "      <td>Yes</td>\n",
       "      <td>6.0</td>\n",
       "      <td>6</td>\n",
       "      <td>In Relationship</td>\n",
       "      <td>2</td>\n",
       "      <td>7</td>\n",
       "    </tr>\n",
       "  </tbody>\n",
       "</table>\n",
       "</div>"
      ],
      "text/plain": [
       "   Student_ID  Age  Gender Academic_Level     Country  Avg_Daily_Usage_Hours  \\\n",
       "0           1   19  Female  Undergraduate  Bangladesh                    5.2   \n",
       "1           2   22    Male       Graduate       India                    2.1   \n",
       "2           3   20  Female  Undergraduate         USA                    6.0   \n",
       "3           4   18    Male    High School          UK                    3.0   \n",
       "4           5   21    Male       Graduate      Canada                    4.5   \n",
       "\n",
       "  Most_Used_Platform Affects_Academic_Performance  Sleep_Hours_Per_Night  \\\n",
       "0          Instagram                          Yes                    6.5   \n",
       "1            Twitter                           No                    7.5   \n",
       "2             TikTok                          Yes                    5.0   \n",
       "3            YouTube                           No                    7.0   \n",
       "4           Facebook                          Yes                    6.0   \n",
       "\n",
       "   Mental_Health_Score Relationship_Status  Conflicts_Over_Social_Media  \\\n",
       "0                    6     In Relationship                            3   \n",
       "1                    8              Single                            0   \n",
       "2                    5         Complicated                            4   \n",
       "3                    7              Single                            1   \n",
       "4                    6     In Relationship                            2   \n",
       "\n",
       "   Addicted_Score  \n",
       "0               8  \n",
       "1               3  \n",
       "2               9  \n",
       "3               4  \n",
       "4               7  "
      ]
     },
     "execution_count": 115,
     "metadata": {},
     "output_type": "execute_result"
    }
   ],
   "source": [
    "df.head()"
   ]
  },
  {
   "cell_type": "code",
   "execution_count": 116,
   "id": "89d713ab",
   "metadata": {},
   "outputs": [
    {
     "data": {
      "text/html": [
       "<div>\n",
       "<style scoped>\n",
       "    .dataframe tbody tr th:only-of-type {\n",
       "        vertical-align: middle;\n",
       "    }\n",
       "\n",
       "    .dataframe tbody tr th {\n",
       "        vertical-align: top;\n",
       "    }\n",
       "\n",
       "    .dataframe thead th {\n",
       "        text-align: right;\n",
       "    }\n",
       "</style>\n",
       "<table border=\"1\" class=\"dataframe\">\n",
       "  <thead>\n",
       "    <tr style=\"text-align: right;\">\n",
       "      <th></th>\n",
       "      <th>Student_ID</th>\n",
       "      <th>Age</th>\n",
       "      <th>Gender</th>\n",
       "      <th>Academic_Level</th>\n",
       "      <th>Country</th>\n",
       "      <th>Avg_Daily_Usage_Hours</th>\n",
       "      <th>Most_Used_Platform</th>\n",
       "      <th>Affects_Academic_Performance</th>\n",
       "      <th>Sleep_Hours_Per_Night</th>\n",
       "      <th>Mental_Health_Score</th>\n",
       "      <th>Relationship_Status</th>\n",
       "      <th>Conflicts_Over_Social_Media</th>\n",
       "      <th>Addicted_Score</th>\n",
       "    </tr>\n",
       "  </thead>\n",
       "  <tbody>\n",
       "    <tr>\n",
       "      <th>700</th>\n",
       "      <td>701</td>\n",
       "      <td>20</td>\n",
       "      <td>Female</td>\n",
       "      <td>Undergraduate</td>\n",
       "      <td>Italy</td>\n",
       "      <td>4.7</td>\n",
       "      <td>TikTok</td>\n",
       "      <td>No</td>\n",
       "      <td>7.2</td>\n",
       "      <td>7</td>\n",
       "      <td>In Relationship</td>\n",
       "      <td>2</td>\n",
       "      <td>5</td>\n",
       "    </tr>\n",
       "    <tr>\n",
       "      <th>701</th>\n",
       "      <td>702</td>\n",
       "      <td>23</td>\n",
       "      <td>Male</td>\n",
       "      <td>Graduate</td>\n",
       "      <td>Russia</td>\n",
       "      <td>6.8</td>\n",
       "      <td>Instagram</td>\n",
       "      <td>Yes</td>\n",
       "      <td>5.9</td>\n",
       "      <td>4</td>\n",
       "      <td>Single</td>\n",
       "      <td>5</td>\n",
       "      <td>9</td>\n",
       "    </tr>\n",
       "    <tr>\n",
       "      <th>702</th>\n",
       "      <td>703</td>\n",
       "      <td>21</td>\n",
       "      <td>Female</td>\n",
       "      <td>Undergraduate</td>\n",
       "      <td>China</td>\n",
       "      <td>5.6</td>\n",
       "      <td>WeChat</td>\n",
       "      <td>Yes</td>\n",
       "      <td>6.7</td>\n",
       "      <td>6</td>\n",
       "      <td>In Relationship</td>\n",
       "      <td>3</td>\n",
       "      <td>7</td>\n",
       "    </tr>\n",
       "    <tr>\n",
       "      <th>703</th>\n",
       "      <td>704</td>\n",
       "      <td>24</td>\n",
       "      <td>Male</td>\n",
       "      <td>Graduate</td>\n",
       "      <td>Japan</td>\n",
       "      <td>4.3</td>\n",
       "      <td>Twitter</td>\n",
       "      <td>No</td>\n",
       "      <td>7.5</td>\n",
       "      <td>8</td>\n",
       "      <td>Single</td>\n",
       "      <td>2</td>\n",
       "      <td>4</td>\n",
       "    </tr>\n",
       "    <tr>\n",
       "      <th>704</th>\n",
       "      <td>705</td>\n",
       "      <td>19</td>\n",
       "      <td>Female</td>\n",
       "      <td>Undergraduate</td>\n",
       "      <td>Poland</td>\n",
       "      <td>6.2</td>\n",
       "      <td>Facebook</td>\n",
       "      <td>Yes</td>\n",
       "      <td>6.3</td>\n",
       "      <td>5</td>\n",
       "      <td>Single</td>\n",
       "      <td>4</td>\n",
       "      <td>8</td>\n",
       "    </tr>\n",
       "  </tbody>\n",
       "</table>\n",
       "</div>"
      ],
      "text/plain": [
       "     Student_ID  Age  Gender Academic_Level Country  Avg_Daily_Usage_Hours  \\\n",
       "700         701   20  Female  Undergraduate   Italy                    4.7   \n",
       "701         702   23    Male       Graduate  Russia                    6.8   \n",
       "702         703   21  Female  Undergraduate   China                    5.6   \n",
       "703         704   24    Male       Graduate   Japan                    4.3   \n",
       "704         705   19  Female  Undergraduate  Poland                    6.2   \n",
       "\n",
       "    Most_Used_Platform Affects_Academic_Performance  Sleep_Hours_Per_Night  \\\n",
       "700             TikTok                           No                    7.2   \n",
       "701          Instagram                          Yes                    5.9   \n",
       "702             WeChat                          Yes                    6.7   \n",
       "703            Twitter                           No                    7.5   \n",
       "704           Facebook                          Yes                    6.3   \n",
       "\n",
       "     Mental_Health_Score Relationship_Status  Conflicts_Over_Social_Media  \\\n",
       "700                    7     In Relationship                            2   \n",
       "701                    4              Single                            5   \n",
       "702                    6     In Relationship                            3   \n",
       "703                    8              Single                            2   \n",
       "704                    5              Single                            4   \n",
       "\n",
       "     Addicted_Score  \n",
       "700               5  \n",
       "701               9  \n",
       "702               7  \n",
       "703               4  \n",
       "704               8  "
      ]
     },
     "execution_count": 116,
     "metadata": {},
     "output_type": "execute_result"
    }
   ],
   "source": [
    "df.tail()"
   ]
  },
  {
   "cell_type": "code",
   "execution_count": 117,
   "id": "a7f03395",
   "metadata": {},
   "outputs": [
    {
     "data": {
      "text/plain": [
       "2"
      ]
     },
     "execution_count": 117,
     "metadata": {},
     "output_type": "execute_result"
    }
   ],
   "source": [
    "df.ndim"
   ]
  },
  {
   "cell_type": "code",
   "execution_count": 118,
   "id": "ec3d8ab6",
   "metadata": {},
   "outputs": [
    {
     "data": {
      "text/plain": [
       "(705, 13)"
      ]
     },
     "execution_count": 118,
     "metadata": {},
     "output_type": "execute_result"
    }
   ],
   "source": [
    "df.shape"
   ]
  },
  {
   "cell_type": "code",
   "execution_count": 119,
   "id": "55fd015d",
   "metadata": {},
   "outputs": [],
   "source": [
    "df.drop('Student_ID',axis=1,inplace=True)\n"
   ]
  },
  {
   "cell_type": "code",
   "execution_count": 120,
   "id": "fe8d3de1",
   "metadata": {},
   "outputs": [
    {
     "data": {
      "text/plain": [
       "Age                               int64\n",
       "Gender                           object\n",
       "Academic_Level                   object\n",
       "Country                          object\n",
       "Avg_Daily_Usage_Hours           float64\n",
       "Most_Used_Platform               object\n",
       "Affects_Academic_Performance     object\n",
       "Sleep_Hours_Per_Night           float64\n",
       "Mental_Health_Score               int64\n",
       "Relationship_Status              object\n",
       "Conflicts_Over_Social_Media       int64\n",
       "Addicted_Score                    int64\n",
       "dtype: object"
      ]
     },
     "execution_count": 120,
     "metadata": {},
     "output_type": "execute_result"
    }
   ],
   "source": [
    "df.dtypes"
   ]
  },
  {
   "cell_type": "code",
   "execution_count": 121,
   "id": "6b28c1eb",
   "metadata": {},
   "outputs": [
    {
     "data": {
      "text/plain": [
       "Gender\n",
       "Female    353\n",
       "Male      352\n",
       "Name: count, dtype: int64"
      ]
     },
     "execution_count": 121,
     "metadata": {},
     "output_type": "execute_result"
    }
   ],
   "source": [
    "o1=df['Gender'].value_counts()\n",
    "o1"
   ]
  },
  {
   "cell_type": "code",
   "execution_count": 122,
   "id": "ec24979d",
   "metadata": {},
   "outputs": [
    {
     "data": {
      "text/plain": [
       "Text(0, 0.5, 'count')"
      ]
     },
     "execution_count": 122,
     "metadata": {},
     "output_type": "execute_result"
    },
    {
     "data": {
      "image/png": "[encoded data removed]",
      "text/plain": [
       "<Figure size 640x480 with 1 Axes>"
      ]
     },
     "metadata": {},
     "output_type": "display_data"
    }
   ],
   "source": [
    "plt.bar(o1.index,o1.values,color='r')\n",
    "plt.title('Gender Count')\n",
    "plt.xlabel('gender')\n",
    "plt.ylabel('count')"
   ]
  },
  {
   "cell_type": "code",
   "execution_count": 123,
   "id": "7156864b",
   "metadata": {},
   "outputs": [
    {
     "data": {
      "text/plain": [
       "Academic_Level\n",
       "Undergraduate    353\n",
       "Graduate         325\n",
       "High School       27\n",
       "Name: count, dtype: int64"
      ]
     },
     "execution_count": 123,
     "metadata": {},
     "output_type": "execute_result"
    }
   ],
   "source": [
    "o2=df['Academic_Level'].value_counts()\n",
    "o2"
   ]
  },
  {
   "cell_type": "code",
   "execution_count": 124,
   "id": "e79a645e",
   "metadata": {},
   "outputs": [
    {
     "data": {
      "text/plain": [
       "Text(0, 0.5, 'count')"
      ]
     },
     "execution_count": 124,
     "metadata": {},
     "output_type": "execute_result"
    },
    {
     "data": {
      "image/png": "[encoded data removed]",
      "text/plain": [
       "<Figure size 640x480 with 1 Axes>"
      ]
     },
     "metadata": {},
     "output_type": "display_data"
    }
   ],
   "source": [
    "plt.bar(o2.index,o2.values,color='g')\n",
    "plt.title('Academic Level Count')\n",
    "plt.xlabel('Level')\n",
    "plt.ylabel('count')"
   ]
  },
  {
   "cell_type": "code",
   "execution_count": 125,
   "id": "51f3c5fe",
   "metadata": {},
   "outputs": [
    {
     "data": {
      "text/plain": [
       "Country\n",
       "India          53\n",
       "USA            40\n",
       "Canada         34\n",
       "France         27\n",
       "Mexico         27\n",
       "               ..\n",
       "Oman            1\n",
       "Afghanistan     1\n",
       "Syria           1\n",
       "Yemen           1\n",
       "Bhutan          1\n",
       "Name: count, Length: 110, dtype: int64"
      ]
     },
     "execution_count": 125,
     "metadata": {},
     "output_type": "execute_result"
    }
   ],
   "source": [
    "o3=df['Country'].value_counts()\n",
    "o3"
   ]
  },
  {
   "cell_type": "code",
   "execution_count": 126,
   "id": "1ed8362c",
   "metadata": {},
   "outputs": [
    {
     "data": {
      "text/plain": [
       "Text(0, 0.5, 'count')"
      ]
     },
     "execution_count": 126,
     "metadata": {},
     "output_type": "execute_result"
    },
    {
     "data": {
      "image/png": "[encoded data removed]",
      "text/plain": [
       "<Figure size 640x480 with 1 Axes>"
      ]
     },
     "metadata": {},
     "output_type": "display_data"
    }
   ],
   "source": [
    "plt.bar(o3.index,o3.values,color='b')\n",
    "plt.title('Country Count')\n",
    "plt.xlabel('Country')\n",
    "plt.ylabel('count')"
   ]
  },
  {
   "cell_type": "code",
   "execution_count": 127,
   "id": "a00e1506",
   "metadata": {},
   "outputs": [
    {
     "data": {
      "text/plain": [
       "Most_Used_Platform\n",
       "Instagram    249\n",
       "TikTok       154\n",
       "Facebook     123\n",
       "WhatsApp      54\n",
       "Twitter       30\n",
       "LinkedIn      21\n",
       "WeChat        15\n",
       "Snapchat      13\n",
       "VKontakte     12\n",
       "LINE          12\n",
       "KakaoTalk     12\n",
       "YouTube       10\n",
       "Name: count, dtype: int64"
      ]
     },
     "execution_count": 127,
     "metadata": {},
     "output_type": "execute_result"
    }
   ],
   "source": [
    "o4=df['Most_Used_Platform'].value_counts()\n",
    "o4"
   ]
  },
  {
   "cell_type": "code",
   "execution_count": 128,
   "id": "c94f5109",
   "metadata": {},
   "outputs": [
    {
     "data": {
      "image/png": "[encoded data removed]",
      "text/plain": [
       "<Figure size 640x480 with 1 Axes>"
      ]
     },
     "metadata": {},
     "output_type": "display_data"
    }
   ],
   "source": [
    "plt.pie(o4.values,labels=o4.index,autopct='%.4f%%')\n",
    "plt.title('Social Media Platform Usage')\n",
    "plt.tight_layout()"
   ]
  },
  {
   "cell_type": "code",
   "execution_count": 129,
   "id": "e80aeed1",
   "metadata": {},
   "outputs": [
    {
     "data": {
      "text/plain": [
       "Affects_Academic_Performance\n",
       "Yes    453\n",
       "No     252\n",
       "Name: count, dtype: int64"
      ]
     },
     "execution_count": 129,
     "metadata": {},
     "output_type": "execute_result"
    }
   ],
   "source": [
    "o5=df['Affects_Academic_Performance'].value_counts()\n",
    "o5"
   ]
  },
  {
   "cell_type": "code",
   "execution_count": 130,
   "id": "68565382",
   "metadata": {},
   "outputs": [
    {
     "data": {
      "text/plain": [
       "Text(0, 0.5, 'count')"
      ]
     },
     "execution_count": 130,
     "metadata": {},
     "output_type": "execute_result"
    },
    {
     "data": {
      "image/png": "[encoded data removed]",
      "text/plain": [
       "<Figure size 640x480 with 1 Axes>"
      ]
     },
     "metadata": {},
     "output_type": "display_data"
    }
   ],
   "source": [
    "plt.bar(o5.index,o5.values,color='gray')\n",
    "plt.title('Affects_Academic_Performance Count')\n",
    "plt.xlabel('Yes/No')\n",
    "plt.ylabel('count')"
   ]
  },
  {
   "cell_type": "code",
   "execution_count": 131,
   "id": "c58c6981",
   "metadata": {},
   "outputs": [
    {
     "data": {
      "text/plain": [
       "Relationship_Status\n",
       "Single             384\n",
       "In Relationship    289\n",
       "Complicated         32\n",
       "Name: count, dtype: int64"
      ]
     },
     "execution_count": 131,
     "metadata": {},
     "output_type": "execute_result"
    }
   ],
   "source": [
    "o6=df['Relationship_Status'].value_counts()\n",
    "o6"
   ]
  },
  {
   "cell_type": "code",
   "execution_count": 132,
   "id": "e19732ac",
   "metadata": {},
   "outputs": [
    {
     "data": {
      "text/plain": [
       "Text(0, 0.5, 'count')"
      ]
     },
     "execution_count": 132,
     "metadata": {},
     "output_type": "execute_result"
    },
    {
     "data": {
      "image/png": "[encoded data removed]",
      "text/plain": [
       "<Figure size 640x480 with 1 Axes>"
      ]
     },
     "metadata": {},
     "output_type": "display_data"
    }
   ],
   "source": [
    "plt.bar(o6.index,o6.values,color='y')\n",
    "plt.title('Relationship_Status')\n",
    "plt.xlabel('status')\n",
    "plt.ylabel('count')"
   ]
  },
  {
   "cell_type": "code",
   "execution_count": 133,
   "id": "5801ea0b",
   "metadata": {},
   "outputs": [
    {
     "data": {
      "text/plain": [
       "Age                             0\n",
       "Gender                          0\n",
       "Academic_Level                  0\n",
       "Country                         0\n",
       "Avg_Daily_Usage_Hours           0\n",
       "Most_Used_Platform              0\n",
       "Affects_Academic_Performance    0\n",
       "Sleep_Hours_Per_Night           0\n",
       "Mental_Health_Score             0\n",
       "Relationship_Status             0\n",
       "Conflicts_Over_Social_Media     0\n",
       "Addicted_Score                  0\n",
       "dtype: int64"
      ]
     },
     "execution_count": 133,
     "metadata": {},
     "output_type": "execute_result"
    }
   ],
   "source": [
    "df.isna().sum()"
   ]
  },
  {
   "cell_type": "code",
   "execution_count": 134,
   "id": "d95b3639",
   "metadata": {},
   "outputs": [
    {
     "data": {
      "text/plain": [
       "Age                               int64\n",
       "Gender                           object\n",
       "Academic_Level                   object\n",
       "Country                          object\n",
       "Avg_Daily_Usage_Hours           float64\n",
       "Most_Used_Platform               object\n",
       "Affects_Academic_Performance     object\n",
       "Sleep_Hours_Per_Night           float64\n",
       "Mental_Health_Score               int64\n",
       "Relationship_Status              object\n",
       "Conflicts_Over_Social_Media       int64\n",
       "Addicted_Score                    int64\n",
       "dtype: object"
      ]
     },
     "execution_count": 134,
     "metadata": {},
     "output_type": "execute_result"
    }
   ],
   "source": [
    "df.dtypes"
   ]
  },
  {
   "cell_type": "code",
   "execution_count": 135,
   "id": "b92d53cf",
   "metadata": {},
   "outputs": [],
   "source": [
    "from sklearn.preprocessing import LabelEncoder\n",
    "lab=LabelEncoder()\n",
    "df['Gender']=lab.fit_transform(df['Gender'])\n",
    "df['Academic_Level']=lab.fit_transform(df['Academic_Level'])\n",
    "df['Country']=lab.fit_transform(df['Country'])\n",
    "df['Most_Used_Platform']=lab.fit_transform(df['Most_Used_Platform'])\n",
    "df['Affects_Academic_Performance']=lab.fit_transform(df['Affects_Academic_Performance'])\n",
    "df['Relationship_Status']=lab.fit_transform(df['Relationship_Status'])"
   ]
  },
  {
   "cell_type": "code",
   "execution_count": 136,
   "id": "1fe68c74",
   "metadata": {},
   "outputs": [
    {
     "data": {
      "text/plain": [
       "Age                               int64\n",
       "Gender                            int64\n",
       "Academic_Level                    int64\n",
       "Country                           int64\n",
       "Avg_Daily_Usage_Hours           float64\n",
       "Most_Used_Platform                int64\n",
       "Affects_Academic_Performance      int64\n",
       "Sleep_Hours_Per_Night           float64\n",
       "Mental_Health_Score               int64\n",
       "Relationship_Status               int64\n",
       "Conflicts_Over_Social_Media       int64\n",
       "Addicted_Score                    int64\n",
       "dtype: object"
      ]
     },
     "execution_count": 136,
     "metadata": {},
     "output_type": "execute_result"
    }
   ],
   "source": [
    "df.dtypes"
   ]
  },
  {
   "cell_type": "code",
   "execution_count": 137,
   "id": "e91b206c",
   "metadata": {},
   "outputs": [
    {
     "data": {
      "text/plain": [
       "array([[19.,  0.,  2., ...,  6.,  1.,  3.],\n",
       "       [22.,  1.,  0., ...,  8.,  2.,  0.],\n",
       "       [20.,  0.,  2., ...,  5.,  0.,  4.],\n",
       "       ...,\n",
       "       [21.,  0.,  2., ...,  6.,  1.,  3.],\n",
       "       [24.,  1.,  0., ...,  8.,  2.,  2.],\n",
       "       [19.,  0.,  2., ...,  5.,  2.,  4.]], shape=(705, 11))"
      ]
     },
     "execution_count": 137,
     "metadata": {},
     "output_type": "execute_result"
    }
   ],
   "source": [
    "x=df.iloc[:,:-1].values\n",
    "x"
   ]
  },
  {
   "cell_type": "code",
   "execution_count": 138,
   "id": "52244583",
   "metadata": {},
   "outputs": [
    {
     "data": {
      "text/plain": [
       "array([8, 3, 9, 4, 7, 9, 2, 8, 5, 4, 7, 8, 4, 9, 5, 7, 3, 8, 5, 7, 8, 4,\n",
       "       7, 8, 5, 9, 5, 7, 3, 8, 5, 7, 8, 4, 7, 8, 5, 9, 6, 7, 4, 8, 5, 7,\n",
       "       8, 4, 7, 8, 5, 9, 6, 7, 4, 8, 5, 7, 8, 4, 7, 8, 5, 8, 7, 9, 3, 7,\n",
       "       6, 8, 4, 7, 8, 5, 7, 8, 4, 7, 8, 5, 7, 9, 4, 7, 6, 4, 8, 7, 8, 4,\n",
       "       7, 9, 5, 7, 6, 8, 4, 7, 8, 4, 7, 8, 9, 4, 7, 8, 5, 7, 6, 8, 4, 7,\n",
       "       8, 7, 5, 8, 7, 5, 8, 7, 5, 8, 7, 5, 8, 7, 5, 8, 7, 5, 8, 7, 5, 8,\n",
       "       7, 5, 8, 7, 5, 8, 7, 5, 8, 7, 5, 8, 7, 5, 8, 7, 5, 8, 7, 5, 8, 7,\n",
       "       5, 8, 7, 5, 8, 7, 7, 6, 8, 7, 5, 8, 7, 6, 8, 7, 5, 8, 7, 6, 8, 7,\n",
       "       5, 8, 7, 6, 8, 7, 5, 8, 7, 6, 8, 7, 5, 8, 7, 6, 8, 7, 5, 8, 7, 6,\n",
       "       8, 7, 5, 8, 7, 6, 8, 7, 5, 8, 7, 6, 8, 7, 5, 8, 7, 6, 8, 7, 5, 8,\n",
       "       9, 7, 5, 4, 3, 7, 6, 5, 9, 7, 5, 4, 3, 8, 6, 5, 9, 7, 5, 4, 3, 7,\n",
       "       6, 5, 9, 7, 5, 4, 3, 8, 6, 5, 9, 7, 5, 4, 3, 7, 6, 5, 9, 7, 5, 4,\n",
       "       3, 8, 6, 5, 9, 7, 5, 4, 3, 7, 6, 5, 9, 7, 5, 4, 3, 8, 6, 5, 9, 7,\n",
       "       5, 4, 3, 7, 6, 5, 9, 7, 5, 4, 3, 8, 6, 5, 9, 7, 5, 4, 3, 7, 6, 5,\n",
       "       9, 7, 5, 4, 3, 8, 6, 5, 9, 7, 5, 4, 7, 4, 6, 8, 4, 7, 9, 7, 5, 7,\n",
       "       7, 4, 6, 8, 4, 7, 9, 7, 5, 7, 7, 4, 6, 8, 4, 7, 9, 7, 5, 7, 7, 4,\n",
       "       6, 8, 4, 7, 9, 7, 5, 7, 7, 4, 6, 8, 4, 7, 9, 7, 5, 7, 7, 4, 6, 8,\n",
       "       4, 7, 9, 7, 5, 7, 7, 4, 6, 8, 4, 7, 9, 7, 5, 7, 7, 4, 6, 8, 4, 7,\n",
       "       9, 7, 5, 7, 7, 4, 6, 8, 4, 7, 9, 7, 5, 7, 7, 4, 6, 8, 4, 7, 9, 7,\n",
       "       5, 7, 7, 4, 6, 8, 4, 7, 9, 7, 5, 7, 7, 4, 6, 8, 4, 7, 9, 7, 5, 7,\n",
       "       7, 4, 6, 8, 4, 7, 9, 7, 5, 7, 7, 4, 6, 8, 4, 7, 9, 7, 5, 7, 7, 4,\n",
       "       6, 8, 4, 7, 9, 7, 5, 7, 7, 4, 6, 8, 4, 7, 9, 7, 5, 7, 7, 4, 6, 8,\n",
       "       4, 7, 9, 7, 5, 7, 7, 4, 6, 8, 4, 7, 9, 7, 5, 7, 7, 5, 4, 6, 7, 7,\n",
       "       8, 5, 8, 6, 7, 5, 4, 6, 7, 7, 8, 5, 8, 6, 7, 5, 4, 6, 7, 7, 8, 5,\n",
       "       8, 6, 7, 5, 4, 6, 7, 7, 8, 5, 8, 6, 7, 5, 4, 6, 7, 7, 8, 5, 8, 6,\n",
       "       7, 5, 4, 6, 7, 7, 8, 5, 8, 6, 7, 5, 4, 6, 7, 7, 8, 5, 8, 6, 7, 4,\n",
       "       8, 9, 5, 8, 7, 8, 5, 6, 8, 5, 8, 7, 4, 8, 5, 8, 5, 7, 9, 5, 8, 7,\n",
       "       8, 7, 5, 8, 5, 8, 7, 4, 8, 5, 8, 5, 7, 9, 5, 8, 7, 8, 5, 7, 8, 5,\n",
       "       9, 7, 4, 8, 5, 8, 5, 7, 9, 5, 8, 7, 8, 5, 7, 8, 5, 9, 7, 4, 8, 5,\n",
       "       8, 5, 7, 9, 5, 8, 7, 8, 5, 7, 8, 5, 9, 7, 4, 8, 5, 8, 5, 7, 9, 5,\n",
       "       8, 7, 8, 5, 7, 8, 5, 9, 7, 4, 8, 5, 8, 5, 7, 9, 5, 8, 7, 8, 5, 7,\n",
       "       8, 5, 9, 7, 4, 8, 5, 8, 5, 7, 9, 5, 8, 7, 8, 5, 7, 8, 5, 9, 7, 4,\n",
       "       8])"
      ]
     },
     "execution_count": 138,
     "metadata": {},
     "output_type": "execute_result"
    }
   ],
   "source": [
    "y=df.iloc[:,-1].values\n",
    "y"
   ]
  },
  {
   "cell_type": "code",
   "execution_count": 139,
   "id": "3a24714e",
   "metadata": {},
   "outputs": [],
   "source": [
    "from sklearn.model_selection import train_test_split\n",
    "x_train,x_test,y_train,y_test=train_test_split(x,y,test_size=0.30,random_state=1)"
   ]
  },
  {
   "cell_type": "code",
   "execution_count": 140,
   "id": "488d4391",
   "metadata": {},
   "outputs": [],
   "source": [
    "from sklearn.preprocessing import StandardScaler\n",
    "scaler=StandardScaler()\n",
    "scaler.fit(x_train)\n",
    "x_train=scaler.transform(x_train)\n",
    "x_test=scaler.transform(x_test)"
   ]
  },
  {
   "cell_type": "code",
   "execution_count": 141,
   "id": "68f78c2c",
   "metadata": {},
   "outputs": [
    {
     "data": {
      "text/plain": [
       "array([[-1.90358582, -0.96609178, -0.0537493 , ..., -1.0960245 ,\n",
       "         0.86220558,  1.18948722],\n",
       "       [ 0.98400744, -0.96609178, -1.07291879, ...,  0.69318106,\n",
       "        -0.90890839, -0.87900379],\n",
       "       [-1.18168751,  1.03509834,  0.96542019, ..., -1.0960245 ,\n",
       "         0.86220558,  1.18948722],\n",
       "       ...,\n",
       "       [-1.18168751,  1.03509834,  0.96542019, ..., -0.20142172,\n",
       "        -2.68002235,  0.15524172],\n",
       "       [ 0.98400744,  1.03509834, -1.07291879, ...,  0.69318106,\n",
       "        -0.90890839, -0.87900379],\n",
       "       [-1.18168751, -0.96609178, -0.0537493 , ..., -1.0960245 ,\n",
       "        -0.90890839,  1.18948722]], shape=(493, 11))"
      ]
     },
     "execution_count": 141,
     "metadata": {},
     "output_type": "execute_result"
    }
   ],
   "source": [
    "x_train"
   ]
  },
  {
   "cell_type": "code",
   "execution_count": 142,
   "id": "ff2eab50",
   "metadata": {},
   "outputs": [
    {
     "data": {
      "text/plain": [
       "array([[-1.18168751, -0.96609178,  0.96542019, ...,  1.58778384,\n",
       "         0.86220558, -0.87900379],\n",
       "       [ 0.98400744,  1.03509834, -1.07291879, ...,  0.69318106,\n",
       "         0.86220558, -0.87900379],\n",
       "       [ 0.26210913,  1.03509834, -1.07291879, ..., -1.0960245 ,\n",
       "        -0.90890839,  1.18948722],\n",
       "       ...,\n",
       "       [-1.18168751, -0.96609178,  0.96542019, ...,  0.69318106,\n",
       "        -0.90890839, -0.87900379],\n",
       "       [-1.18168751, -0.96609178,  0.96542019, ...,  1.58778384,\n",
       "         0.86220558, -1.91324929],\n",
       "       [-1.18168751, -0.96609178,  0.96542019, ..., -0.20142172,\n",
       "         0.86220558,  0.15524172]], shape=(212, 11))"
      ]
     },
     "execution_count": 142,
     "metadata": {},
     "output_type": "execute_result"
    }
   ],
   "source": [
    "x_test"
   ]
  },
  {
   "cell_type": "code",
   "execution_count": 143,
   "id": "f2500883",
   "metadata": {},
   "outputs": [],
   "source": [
    "from sklearn.neighbors import KNeighborsClassifier\n",
    "knn=KNeighborsClassifier(n_neighbors=7)\n",
    "from sklearn.naive_bayes import BernoulliNB\n",
    "nb=BernoulliNB()\n",
    "from sklearn.svm import SVC\n",
    "sv=SVC()\n",
    "from sklearn.metrics import confusion_matrix,accuracy_score,ConfusionMatrixDisplay"
   ]
  },
  {
   "cell_type": "code",
   "execution_count": 144,
   "id": "0448a07f",
   "metadata": {},
   "outputs": [
    {
     "name": "stdout",
     "output_type": "stream",
     "text": [
      "Model is  KNeighborsClassifier(n_neighbors=7)\n",
      "********************\n",
      "[4 5 8 4 7 8 5 6 4 7 7 5 5 8 7 7 5 4 8 8 5 5 6 7 6 7 7 6 6 8 5 8 6 8 8 8 3\n",
      " 7 8 7 4 6 6 7 3 9 7 8 9 7 7 7 5 7 8 4 7 8 5 5 7 7 6 7 9 8 4 4 5 9 3 4 7 7\n",
      " 8 7 4 9 4 4 4 5 6 5 7 7 7 8 7 5 8 8 7 7 8 8 7 4 8 8 5 8 8 7 6 5 5 8 3 8 7\n",
      " 7 5 8 7 9 7 6 6 5 4 8 6 4 7 8 5 5 5 5 9 7 8 7 7 5 8 8 5 5 5 7 7 8 7 7 7 5\n",
      " 4 6 4 4 7 7 8 8 7 7 5 7 7 7 5 9 7 4 8 7 7 7 8 7 8 4 8 7 6 7 5 8 5 8 7 7 8\n",
      " 8 8 7 4 4 7 7 8 7 6 5 5 5 9 8 5 5 5 5 7 7 8 7 7 5 3 7]\n",
      "********************\n",
      "confusion matrix:\n",
      " [[ 5  0  0  0  0  0  0]\n",
      " [ 0 22  2  1  0  0  0]\n",
      " [ 0  1 35  0  0  0  0]\n",
      " [ 0  0  4 15  3  0  0]\n",
      " [ 0  0  0  1 61  3  0]\n",
      " [ 0  0  0  0  5 40  3]\n",
      " [ 0  0  0  0  0  5  6]]\n",
      "********************\n",
      "accuracy score:  0.8679245283018868\n",
      "____________________________________________________________________________________________________\n",
      "Model is  BernoulliNB()\n",
      "********************\n",
      "[5 4 8 5 7 8 5 6 5 6 7 5 4 9 7 7 4 5 9 8 5 5 5 7 6 7 7 6 9 9 5 8 9 7 8 9 5\n",
      " 7 7 7 5 6 5 8 5 9 8 8 9 7 9 7 4 8 8 5 7 8 5 5 7 7 6 8 9 7 5 4 5 9 4 5 7 8\n",
      " 8 9 4 9 5 5 5 5 5 5 7 7 7 7 7 5 8 8 7 7 7 9 7 4 8 8 5 7 9 6 6 5 5 9 5 7 7\n",
      " 7 5 8 7 9 7 6 6 4 4 8 6 5 7 9 5 5 4 5 9 7 9 8 7 5 8 9 5 5 5 7 8 9 7 7 7 5\n",
      " 5 5 5 5 9 7 9 8 9 7 5 7 7 7 5 8 7 4 7 7 8 9 8 7 8 4 9 7 6 7 4 7 4 9 7 7 9\n",
      " 8 8 9 5 5 7 7 7 7 7 4 5 5 9 7 5 4 5 4 7 7 7 7 9 5 5 9]\n",
      "********************\n",
      "confusion matrix:\n",
      " [[ 0  1  4  0  0  0  0]\n",
      " [ 0  6 19  0  0  0  0]\n",
      " [ 0 11 25  0  0  0  0]\n",
      " [ 0  0  7 12  2  0  1]\n",
      " [ 0  0  0  0 49  9  7]\n",
      " [ 0  0  0  0 12 18 18]\n",
      " [ 0  0  0  0  1  3  7]]\n",
      "********************\n",
      "accuracy score:  0.5518867924528302\n",
      "____________________________________________________________________________________________________\n",
      "Model is  SVC()\n",
      "********************\n",
      "[4 5 8 4 7 8 5 6 4 6 7 5 5 8 8 7 5 5 8 8 5 5 5 7 6 7 7 6 7 8 5 8 7 8 8 8 3\n",
      " 7 8 7 4 6 5 7 3 9 7 8 9 7 7 7 5 7 9 4 7 7 5 4 7 7 6 7 9 8 4 4 5 9 4 4 7 7\n",
      " 8 7 4 9 4 5 4 5 6 5 7 7 7 8 7 5 8 7 7 7 9 8 7 4 8 8 5 8 8 6 6 5 5 7 3 8 7\n",
      " 7 5 8 7 9 7 6 6 5 4 9 6 4 7 9 5 5 5 5 9 7 8 7 8 5 8 8 5 5 5 7 8 7 7 7 7 5\n",
      " 4 5 4 4 7 7 8 8 7 7 5 7 7 7 5 9 7 4 8 7 7 7 9 7 8 4 8 7 6 7 5 8 5 8 7 7 8\n",
      " 8 8 7 4 4 7 7 7 7 6 5 5 4 9 8 5 5 5 5 7 7 8 7 7 5 3 7]\n",
      "********************\n",
      "confusion matrix:\n",
      " [[ 4  1  0  0  0  0  0]\n",
      " [ 0 23  2  0  0  0  0]\n",
      " [ 0  0 36  0  0  0  0]\n",
      " [ 0  0  6 14  2  0  0]\n",
      " [ 0  0  0  0 65  0  0]\n",
      " [ 0  0  0  0  4 40  4]\n",
      " [ 0  0  0  0  0  1 10]]\n",
      "********************\n",
      "accuracy score:  0.9056603773584906\n",
      "____________________________________________________________________________________________________\n"
     ]
    }
   ],
   "source": [
    "lst=[knn,nb,sv]\n",
    "for i in lst:\n",
    "    print('Model is ',i)\n",
    "    i.fit(x_train,y_train)\n",
    "    print('*'*20)\n",
    "    y_pred=i.predict(x_test)\n",
    "    print(y_pred)\n",
    "    print('*'*20)\n",
    "    print('confusion matrix:\\n',confusion_matrix(y_test,y_pred))\n",
    "    print('*'*20)\n",
    "    print('accuracy score: ',accuracy_score(y_test,y_pred))\n",
    "    print('_'*100)"
   ]
  }
 ],
 "metadata": {
  "kernelspec": {
   "display_name": "Python 3",
   "language": "python",
   "name": "python3"
  },
  "language_info": {
   "codemirror_mode": {
    "name": "ipython",
    "version": 3
   },
   "file_extension": ".py",
   "mimetype": "text/x-python",
   "name": "python",
   "nbconvert_exporter": "python",
   "pygments_lexer": "ipython3",
   "version": "3.10.10"
  }
 },
 "nbformat": 4,
 "nbformat_minor": 5
}
